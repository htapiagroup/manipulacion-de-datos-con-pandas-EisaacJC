{
  "nbformat": 4,
  "nbformat_minor": 0,
  "metadata": {
    "anaconda-cloud": {},
    "kernelspec": {
      "display_name": "Python 3",
      "language": "python",
      "name": "python2"
    },
    "language_info": {
      "codemirror_mode": {
        "name": "ipython",
        "version": 2
      },
      "file_extension": ".py",
      "mimetype": "text/x-python",
      "name": "python",
      "nbconvert_exporter": "python",
      "pygments_lexer": "ipython2",
      "version": "2.7.15"
    },
    "colab": {
      "name": "01.00-Introduction-to-NumPy.ipynb",
      "provenance": []
    }
  },
  "cells": [
    {
      "cell_type": "markdown",
      "metadata": {
        "id": "RCEmqkdN0e4F",
        "colab_type": "text"
      },
      "source": [
        "<!--BOOK_INFORMATION-->\n",
        "<img align=\"left\" style=\"padding-right:10px;\" src=\"https://www.uv.mx/ffia/files/2012/09/playerLogo2.jpg\">\n",
        "\n",
        " El contenido ha sido adaptado \n",
        "por HTM y GED a partir del libro [Python Data Science Handbook](http://shop.oreilly.com/product/0636920034919.do) \n",
        "de Jake VanderPlas y se mantiene la licencia sobre el texto, \n",
        "[CC-BY-NC-ND license](https://creativecommons.org/licenses/by-nc-nd/3.0/us/legalcode), \n",
        "y sobre el codigo [MIT license](https://opensource.org/licenses/MIT).*"
      ]
    },
    {
      "cell_type": "markdown",
      "metadata": {
        "id": "fRuT3ATg0e4P",
        "colab_type": "text"
      },
      "source": [
        "<!--NAVIGATION-->\n",
        "< [Prefacio](00.00-Preface.ipynb) | [Contenido](Index.ipynb) | [Tipos de Datos en Python](01.01-Understanding-Data-Types.ipynb) >\n",
        "\n",
        "<a href=\"https://colab.research.google.com/github/htapia/TallerPythonIntroCienciaDatos/blob/master/notebooks/01.00-Introduction-to-NumPy.ipynb\"><img align=\"left\" src=\"https://colab.research.google.com/assets/colab-badge.svg\" alt=\"Open in Colab\" title=\"Open and Execute in Google Colaboratory\"></a>\n"
      ]
    },
    {
      "cell_type": "markdown",
      "metadata": {
        "id": "TJqDkAi00e4U",
        "colab_type": "text"
      },
      "source": [
        "# Introducción a NumPy"
      ]
    },
    {
      "cell_type": "markdown",
      "metadata": {
        "id": "Wpx4_XoL0e4X",
        "colab_type": "text"
      },
      "source": [
        "En estas primeras dos partes del taller vamos a presentar tecnicas para cargar, guardar y manipular de forma efectiva datos en memoria con Python. El tipo de datos con los que van a encontrarse es muy amplio: la información puede provenir de múltiples fuentes y tener una variedad de formatos, incluyendo documentos, imagenes, sonidos, videos, mediciones numéricas, o cualquier cosa. Sin embargo es útil pensar en cualquier forma de datos como arreglos de números.\n",
        "\n",
        "Por ejemplo, las imágenes digitales (sin color) pueden considerarse como arreglos bidimensionales de números que representan el brillo de cada pixel sobre el área.\n",
        "El sonido puede verse como un arreglo unidimensional de la variación de la intensidad en el tiempo.\n",
        "El texto puede convertirse a representaciones numéricas de distintas formas, por ejemplo la frecuencia de ciertas palabras.\n",
        "No importa el tipo de datos, el primer paso para analizarlos es transformarlos y/o expresarls como arreglos de números.\n",
        "\n",
        "(Algunas formas de realizar esta transformación serán mostradas más adelante We will discuss some specific examples of this process later in [Ingeniería de Atributos](03.04-Feature-Engineering.ipynb))\n",
        "\n",
        "En esta sección vamos a ver la librería NumPy (*Numerical Python*) que proporciona una interfaz para guardar y operar sobre arreglos de datos.\n",
        "Los arreglos en NumPy son como el tipo de datos ``list`` disponible en Python, pero proporcionan mucho más operaciones y eficiencia en la manipulación y el manejo de los arreglos conforme estos incrementan de tamaño.\n",
        "\n",
        "En la infraestructura que estamos usando, NumPy ya está disponible (así como la mayoría del ecosistema para ciencia de datos en Python). Pueden checar la versión disponible de la siguiente forma:"
      ]
    },
    {
      "cell_type": "code",
      "metadata": {
        "id": "P-mDU2_-0e4Z",
        "colab_type": "code",
        "colab": {
          "base_uri": "https://localhost:8080/",
          "height": 34
        },
        "outputId": "3b99dc2e-8c11-4cb0-8a80-3c0f65d02708"
      },
      "source": [
        "import numpy\n",
        "numpy.__version__"
      ],
      "execution_count": 5,
      "outputs": [
        {
          "output_type": "execute_result",
          "data": {
            "text/plain": [
              "'1.16.4'"
            ]
          },
          "metadata": {
            "tags": []
          },
          "execution_count": 5
        }
      ]
    },
    {
      "cell_type": "markdown",
      "metadata": {
        "id": "2RwhEyTX0e4r",
        "colab_type": "text"
      },
      "source": [
        "Encontrarán que la mayoría de los usuarios importan NumPy usando ``np`` como alias:"
      ]
    },
    {
      "cell_type": "code",
      "metadata": {
        "id": "AiatAn_a0e4u",
        "colab_type": "code",
        "colab": {}
      },
      "source": [
        "import numpy as np"
      ],
      "execution_count": 0,
      "outputs": []
    },
    {
      "cell_type": "markdown",
      "metadata": {
        "id": "7dUE9RkJ0e42",
        "colab_type": "text"
      },
      "source": [
        "Usaremos esta convención para importar NumPy a lo largo de este Taller."
      ]
    },
    {
      "cell_type": "markdown",
      "metadata": {
        "id": "mCll57oY0e45",
        "colab_type": "text"
      },
      "source": [
        "## Acerca de la Documentación\n",
        "\n",
        "IPyhton, a través de las libretas de Jupyter, proporciona un acceso rápido para explorar los contenidos de un paquete, usando la tecla ``tab``, asi como a la documentación de las funciones, usando el caracter ``?`` al final del nombre.\n",
        "\n",
        "<!--As you read through this chapter, don't forget that IPython gives you the ability to quickly explore the contents of a package (by using the tab-completion feature), as well as the documentation of various functions (using the ``?`` character – Refer back to [Help and Documentation in IPython](01.01-Help-And-Documentation.ipynb)).-->\n",
        "\n",
        "Por ejemplo, para ver los contenidos del espacio de numpy, pueden escribir lo siguiente\n",
        "\n",
        "```ipython\n",
        "In [3]: np.<TAB>\n",
        "```\n",
        "\n",
        "Para desplegar la documentación de NumPy pueden usar:\n",
        "\n",
        "```ipython\n",
        "In [4]: np?\n",
        "```\n",
        "\n",
        "Todos los detalles, tutoriales y mucho más recursos pueden consultarse en http://www.numpy.org."
      ]
    },
    {
      "cell_type": "markdown",
      "metadata": {
        "id": "-w9JwtHa0e47",
        "colab_type": "text"
      },
      "source": [
        "<!--NAVIGATION-->\n",
        "< [Prefacio](00.00-Preface.ipynb) | [Contenido](Index.ipynb) | [Tipos de Datos en Python](01.01-Understanding-Data-Types.ipynb) >\n",
        "\n",
        "<a href=\"https://colab.research.google.com/github/htapia/TallerPythonIntroCienciaDatos/blob/master/notebooks/01.00-Introduction-to-NumPy.ipynb\"><img align=\"left\" src=\"https://colab.research.google.com/assets/colab-badge.svg\" alt=\"Open in Colab\" title=\"Open and Execute in Google Colaboratory\"></a>\n"
      ]
    }
  ]
}