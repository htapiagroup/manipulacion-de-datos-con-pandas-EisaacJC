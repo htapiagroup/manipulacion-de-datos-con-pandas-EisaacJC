{
  "nbformat": 4,
  "nbformat_minor": 0,
  "metadata": {
    "anaconda-cloud": {},
    "kernelspec": {
      "display_name": "Python 2",
      "language": "python",
      "name": "python2"
    },
    "language_info": {
      "codemirror_mode": {
        "name": "ipython",
        "version": 2
      },
      "file_extension": ".py",
      "mimetype": "text/x-python",
      "name": "python",
      "nbconvert_exporter": "python",
      "pygments_lexer": "ipython2",
      "version": "2.7.15"
    },
    "colab": {
      "name": "01.06-Boolean-Arrays-and-Masks.ipynb",
      "provenance": []
    }
  },
  "cells": [
    {
      "cell_type": "markdown",
      "metadata": {
        "id": "kP9J224Y-eaj",
        "colab_type": "text"
      },
      "source": [
        "\n",
        "<img align=\"left\" style=\"padding-right:10px;\" src=\"https://www.uv.mx/ffia/files/2012/09/playerLogo2.jpg\">\n",
        "\n",
        "El contenido ha sido adaptado para el curso de Introducción a la ciencia de Datos,\n",
        "por HTM y GED a partir del libro [Python Data Science Handbook](http://shop.oreilly.com/product/0636920034919.do) \n",
        "de Jake VanderPlas y se mantiene la licencia sobre el texto, \n",
        "[CC-BY-NC-ND license](https://creativecommons.org/licenses/by-nc-nd/3.0/us/legalcode), \n",
        "y sobre el codigo [MIT license](https://opensource.org/licenses/MIT).*"
      ]
    },
    {
      "cell_type": "markdown",
      "metadata": {
        "id": "5sWTmK5iBAFJ",
        "colab_type": "text"
      },
      "source": [
        "<!--NAVIGATION-->\n",
        "< [Cálculos con Arrays 2. Broadcasting](01.05-Computation-on-arrays-broadcasting.ipynb) | [Contenido](Index.ipynb) | [Indexado elegante](01.07-Fancy-Indexing.ipynb) >\n",
        "\n"
      ]
    },
    {
      "cell_type": "markdown",
      "metadata": {
        "id": "BB7mpuuQBAFM",
        "colab_type": "text"
      },
      "source": [
        "# Comparaciones, máscaras y lógica booleana"
      ]
    },
    {
      "cell_type": "markdown",
      "metadata": {
        "id": "RRP2SR7NBAFP",
        "colab_type": "text"
      },
      "source": [
        "## Ejemplo: Contando días\n"
      ]
    },
    {
      "cell_type": "code",
      "metadata": {
        "id": "E3kskJIYBAFT",
        "colab_type": "code",
        "colab": {
          "base_uri": "https://localhost:8080/",
          "height": 34
        },
        "outputId": "3b1a4500-fbde-4f8b-e456-4c2c0cbce7ac"
      },
      "source": [
        "import numpy as np\n",
        "import pandas as pd\n",
        "\n",
        "# use pandas to extract rainfall inches as a NumPy array\n",
        "rainfall = pd.read_csv('https://raw.githubusercontent.com/htapiagroup/manipulacion-de-datos-con-pandas-EisaacJC/master/notebooks/data/Seattle2014.csv')['PRCP'].values\n",
        "inches = rainfall / 254.0  # 1/10mm -> inches\n",
        "inches.shape"
      ],
      "execution_count": 12,
      "outputs": [
        {
          "output_type": "execute_result",
          "data": {
            "text/plain": [
              "(365,)"
            ]
          },
          "metadata": {
            "tags": []
          },
          "execution_count": 12
        }
      ]
    },
    {
      "cell_type": "code",
      "metadata": {
        "id": "bspUE8qhBAFp",
        "colab_type": "code",
        "colab": {}
      },
      "source": [
        "%matplotlib inline\n",
        "import matplotlib.pyplot as plt\n",
        "import seaborn; seaborn.set()  # set plot styles"
      ],
      "execution_count": 0,
      "outputs": []
    },
    {
      "cell_type": "code",
      "metadata": {
        "id": "dNf1dxdBBAFy",
        "colab_type": "code",
        "colab": {
          "base_uri": "https://localhost:8080/",
          "height": 274
        },
        "outputId": "2aae35b6-5005-40ba-c659-4a0c74273218"
      },
      "source": [
        "plt.hist(inches, 40);"
      ],
      "execution_count": 14,
      "outputs": [
        {
          "output_type": "display_data",
          "data": {
            "image/png": "[encoded data removed]",
            "text/plain": [
              "<Figure size 432x288 with 1 Axes>"
            ]
          },
          "metadata": {
            "tags": []
          }
        }
      ]
    },
    {
      "cell_type": "markdown",
      "metadata": {
        "id": "rWWMb16mBAF8",
        "colab_type": "text"
      },
      "source": [
        "## Operadores de comparación como ufuncs\n",
        "\n",
        "- En [Cálculos con Arrays 1. Ufuncs](01.03-Computation-on-arrays-ufuncs.ipynb)  introducimos ufuncs en particular operadores aritméticos ``+``, ``-``, ``*``, ``/``, y otros\n",
        "\n",
        "- NumPy  implementa operadores de comparación ``<`` (menor que) y ``>`` (mayor que)"
      ]
    },
    {
      "cell_type": "code",
      "metadata": {
        "id": "DByOT5XgBAF_",
        "colab_type": "code",
        "colab": {}
      },
      "source": [
        "x = np.array([1, 2, 3, 4, 5])"
      ],
      "execution_count": 0,
      "outputs": []
    },
    {
      "cell_type": "code",
      "metadata": {
        "id": "YaJQpLjWBAGN",
        "colab_type": "code",
        "colab": {
          "base_uri": "https://localhost:8080/",
          "height": 34
        },
        "outputId": "373495b3-363a-4a4c-bcd1-0ba73b58fe7e"
      },
      "source": [
        "x < 3  # less than"
      ],
      "execution_count": 16,
      "outputs": [
        {
          "output_type": "execute_result",
          "data": {
            "text/plain": [
              "array([ True,  True, False, False, False])"
            ]
          },
          "metadata": {
            "tags": []
          },
          "execution_count": 16
        }
      ]
    },
    {
      "cell_type": "code",
      "metadata": {
        "id": "fPEQ1zTYBAGd",
        "colab_type": "code",
        "colab": {
          "base_uri": "https://localhost:8080/",
          "height": 34
        },
        "outputId": "e07bc996-f958-44fa-db1c-630728038639"
      },
      "source": [
        "x > 3  # greater than"
      ],
      "execution_count": 17,
      "outputs": [
        {
          "output_type": "execute_result",
          "data": {
            "text/plain": [
              "array([False, False, False,  True,  True])"
            ]
          },
          "metadata": {
            "tags": []
          },
          "execution_count": 17
        }
      ]
    },
    {
      "cell_type": "code",
      "metadata": {
        "id": "BoWXJwlzBAGu",
        "colab_type": "code",
        "colab": {
          "base_uri": "https://localhost:8080/",
          "height": 34
        },
        "outputId": "aec6bdca-588e-4ab7-f51b-536596826952"
      },
      "source": [
        "x <= 3  # less than or equal"
      ],
      "execution_count": 18,
      "outputs": [
        {
          "output_type": "execute_result",
          "data": {
            "text/plain": [
              "array([ True,  True,  True, False, False])"
            ]
          },
          "metadata": {
            "tags": []
          },
          "execution_count": 18
        }
      ]
    },
    {
      "cell_type": "code",
      "metadata": {
        "id": "p0KGfRP1BAG4",
        "colab_type": "code",
        "colab": {
          "base_uri": "https://localhost:8080/",
          "height": 34
        },
        "outputId": "a4491f2c-fc90-4a7a-9af4-3af186355386"
      },
      "source": [
        "x >= 3  # greater than or equal"
      ],
      "execution_count": 19,
      "outputs": [
        {
          "output_type": "execute_result",
          "data": {
            "text/plain": [
              "array([False, False,  True,  True,  True])"
            ]
          },
          "metadata": {
            "tags": []
          },
          "execution_count": 19
        }
      ]
    },
    {
      "cell_type": "code",
      "metadata": {
        "id": "hSEP2m4DBAHE",
        "colab_type": "code",
        "colab": {
          "base_uri": "https://localhost:8080/",
          "height": 34
        },
        "outputId": "d36188bd-ada8-4a85-8e28-cf483caf6c6c"
      },
      "source": [
        "x != 3  # not equal"
      ],
      "execution_count": 20,
      "outputs": [
        {
          "output_type": "execute_result",
          "data": {
            "text/plain": [
              "array([ True,  True, False,  True,  True])"
            ]
          },
          "metadata": {
            "tags": []
          },
          "execution_count": 20
        }
      ]
    },
    {
      "cell_type": "code",
      "metadata": {
        "id": "m674DZboBAHc",
        "colab_type": "code",
        "colab": {
          "base_uri": "https://localhost:8080/",
          "height": 34
        },
        "outputId": "86ad937c-a710-4560-d6f6-9427a4e5e6c4"
      },
      "source": [
        "x == 3  # equal"
      ],
      "execution_count": 21,
      "outputs": [
        {
          "output_type": "execute_result",
          "data": {
            "text/plain": [
              "array([False, False,  True, False, False])"
            ]
          },
          "metadata": {
            "tags": []
          },
          "execution_count": 21
        }
      ]
    },
    {
      "cell_type": "code",
      "metadata": {
        "id": "Y3fm33pZBAHk",
        "colab_type": "code",
        "colab": {
          "base_uri": "https://localhost:8080/",
          "height": 34
        },
        "outputId": "32ad070e-b68e-4f33-b292-3041b813be02"
      },
      "source": [
        "(2 * x) == (x ** 2)"
      ],
      "execution_count": 22,
      "outputs": [
        {
          "output_type": "execute_result",
          "data": {
            "text/plain": [
              "array([False,  True, False, False, False])"
            ]
          },
          "metadata": {
            "tags": []
          },
          "execution_count": 22
        }
      ]
    },
    {
      "cell_type": "markdown",
      "metadata": {
        "id": "SXQXxFkvBAHt",
        "colab_type": "text"
      },
      "source": [
        "Como es el caso de los operadores aritmeticos, los operadores de comparacion se implementan como ufuncs in NumPy; por ejemplo, cuando escribes ``x < 3``, internamente NumPy utiliza ``np.less(x, 3)``.\n",
        "    Aqui se muestra un resumen de los operadores de comparacion y su funcion equivalente:\n",
        "\n",
        "| Operator\t    | Equivalent ufunc    || Operator\t   | Equivalent ufunc    |\n",
        "|---------------|---------------------||---------------|---------------------|\n",
        "|``==``         |``np.equal``         ||``!=``         |``np.not_equal``     |\n",
        "|``<``          |``np.less``          ||``<=``         |``np.less_equal``    |\n",
        "|``>``          |``np.greater``       ||``>=``         |``np.greater_equal`` |"
      ]
    },
    {
      "cell_type": "code",
      "metadata": {
        "id": "y50wLF-LBAHv",
        "colab_type": "code",
        "colab": {
          "base_uri": "https://localhost:8080/",
          "height": 68
        },
        "outputId": "f475826d-0ad1-4f9a-992c-1cafe48438aa"
      },
      "source": [
        "rng = np.random.RandomState(0)\n",
        "x = rng.randint(10, size=(3, 4))\n",
        "x"
      ],
      "execution_count": 23,
      "outputs": [
        {
          "output_type": "execute_result",
          "data": {
            "text/plain": [
              "array([[5, 0, 3, 3],\n",
              "       [7, 9, 3, 5],\n",
              "       [2, 4, 7, 6]])"
            ]
          },
          "metadata": {
            "tags": []
          },
          "execution_count": 23
        }
      ]
    },
    {
      "cell_type": "code",
      "metadata": {
        "id": "G0pBfS42BAH3",
        "colab_type": "code",
        "colab": {
          "base_uri": "https://localhost:8080/",
          "height": 68
        },
        "outputId": "beb734fc-1068-41d4-f8fb-c9eef5c168bc"
      },
      "source": [
        "x < 6"
      ],
      "execution_count": 24,
      "outputs": [
        {
          "output_type": "execute_result",
          "data": {
            "text/plain": [
              "array([[ True,  True,  True,  True],\n",
              "       [False, False,  True,  True],\n",
              "       [ True,  True, False, False]])"
            ]
          },
          "metadata": {
            "tags": []
          },
          "execution_count": 24
        }
      ]
    },
    {
      "cell_type": "markdown",
      "metadata": {
        "id": "y6l-PfFoBAH_",
        "colab_type": "text"
      },
      "source": [
        "## Usando Arrays Booleanos"
      ]
    },
    {
      "cell_type": "code",
      "metadata": {
        "id": "dRCMJRYRBAIB",
        "colab_type": "code",
        "colab": {
          "base_uri": "https://localhost:8080/",
          "height": 68
        },
        "outputId": "e71df11d-6ec6-4cbb-99d4-e97d5b44a208"
      },
      "source": [
        "print(x)"
      ],
      "execution_count": 25,
      "outputs": [
        {
          "output_type": "stream",
          "text": [
            "[[5 0 3 3]\n",
            " [7 9 3 5]\n",
            " [2 4 7 6]]\n"
          ],
          "name": "stdout"
        }
      ]
    },
    {
      "cell_type": "markdown",
      "metadata": {
        "id": "HYojEsKmBAIK",
        "colab_type": "text"
      },
      "source": [
        "### Contando entradas"
      ]
    },
    {
      "cell_type": "code",
      "metadata": {
        "id": "gFxxRofsBAIM",
        "colab_type": "code",
        "colab": {
          "base_uri": "https://localhost:8080/",
          "height": 34
        },
        "outputId": "74dd1797-97a7-4a71-98fa-42e373e30840"
      },
      "source": [
        "# how many values less than 6?\n",
        "np.count_nonzero(x < 6)"
      ],
      "execution_count": 26,
      "outputs": [
        {
          "output_type": "execute_result",
          "data": {
            "text/plain": [
              "8"
            ]
          },
          "metadata": {
            "tags": []
          },
          "execution_count": 26
        }
      ]
    },
    {
      "cell_type": "code",
      "metadata": {
        "id": "2LvClbnGBAIU",
        "colab_type": "code",
        "colab": {
          "base_uri": "https://localhost:8080/",
          "height": 34
        },
        "outputId": "298288e6-b297-4244-8798-36d196f9183f"
      },
      "source": [
        "np.sum(x < 6)"
      ],
      "execution_count": 27,
      "outputs": [
        {
          "output_type": "execute_result",
          "data": {
            "text/plain": [
              "8"
            ]
          },
          "metadata": {
            "tags": []
          },
          "execution_count": 27
        }
      ]
    },
    {
      "cell_type": "code",
      "metadata": {
        "id": "J3Yrc427BAIc",
        "colab_type": "code",
        "colab": {
          "base_uri": "https://localhost:8080/",
          "height": 34
        },
        "outputId": "37af0b64-c054-45e7-bb62-9105d40a00b6"
      },
      "source": [
        "# Cuantos valores menores a 6 tiene cada fila?\n",
        "np.sum(x < 6, axis=1)"
      ],
      "execution_count": 28,
      "outputs": [
        {
          "output_type": "execute_result",
          "data": {
            "text/plain": [
              "array([4, 2, 2])"
            ]
          },
          "metadata": {
            "tags": []
          },
          "execution_count": 28
        }
      ]
    },
    {
      "cell_type": "code",
      "metadata": {
        "id": "o1lzUP8VBAIk",
        "colab_type": "code",
        "colab": {
          "base_uri": "https://localhost:8080/",
          "height": 34
        },
        "outputId": "21065d3a-be83-49af-9bd2-8b9ecb1d7280"
      },
      "source": [
        "# Hay valores mayores a 8?\n",
        "np.any(x > 8)"
      ],
      "execution_count": 29,
      "outputs": [
        {
          "output_type": "execute_result",
          "data": {
            "text/plain": [
              "True"
            ]
          },
          "metadata": {
            "tags": []
          },
          "execution_count": 29
        }
      ]
    },
    {
      "cell_type": "code",
      "metadata": {
        "id": "KSG1IAGQBAIv",
        "colab_type": "code",
        "colab": {
          "base_uri": "https://localhost:8080/",
          "height": 34
        },
        "outputId": "7bb4aa69-157f-4c28-d3d1-fcf602918779"
      },
      "source": [
        "# Hay algun valor menor que zero(0)?\n",
        "np.any(x < 0)"
      ],
      "execution_count": 30,
      "outputs": [
        {
          "output_type": "execute_result",
          "data": {
            "text/plain": [
              "False"
            ]
          },
          "metadata": {
            "tags": []
          },
          "execution_count": 30
        }
      ]
    },
    {
      "cell_type": "code",
      "metadata": {
        "id": "bRliuSeoBAI7",
        "colab_type": "code",
        "colab": {
          "base_uri": "https://localhost:8080/",
          "height": 34
        },
        "outputId": "0a45e918-4dbd-4382-b76b-c239891e6066"
      },
      "source": [
        "# son todos los valores menores a 10?\n",
        "np.all(x < 10)"
      ],
      "execution_count": 31,
      "outputs": [
        {
          "output_type": "execute_result",
          "data": {
            "text/plain": [
              "True"
            ]
          },
          "metadata": {
            "tags": []
          },
          "execution_count": 31
        }
      ]
    },
    {
      "cell_type": "code",
      "metadata": {
        "id": "smr6h8jOBAJC",
        "colab_type": "code",
        "colab": {
          "base_uri": "https://localhost:8080/",
          "height": 34
        },
        "outputId": "0e6fb64a-a674-4419-e36d-57d81d28daae"
      },
      "source": [
        "# son todos los valores iguales a 6?\n",
        "np.all(x == 6)"
      ],
      "execution_count": 32,
      "outputs": [
        {
          "output_type": "execute_result",
          "data": {
            "text/plain": [
              "False"
            ]
          },
          "metadata": {
            "tags": []
          },
          "execution_count": 32
        }
      ]
    },
    {
      "cell_type": "markdown",
      "metadata": {
        "id": "ys_O2SXpBAJJ",
        "colab_type": "text"
      },
      "source": [
        "``np.all`` and ``np.any`` tambien se puede usar a lo largo de los ejes particulares, por ejemplo:"
      ]
    },
    {
      "cell_type": "code",
      "metadata": {
        "id": "v0D2W5A3BAJM",
        "colab_type": "code",
        "colab": {
          "base_uri": "https://localhost:8080/",
          "height": 34
        },
        "outputId": "5b777ef5-645d-414b-b7f7-af8bf47f3889"
      },
      "source": [
        "# son todos los valores en cada fila menores a 8?\n",
        "np.all(x < 8, axis=1)"
      ],
      "execution_count": 33,
      "outputs": [
        {
          "output_type": "execute_result",
          "data": {
            "text/plain": [
              "array([ True, False,  True])"
            ]
          },
          "metadata": {
            "tags": []
          },
          "execution_count": 33
        }
      ]
    },
    {
      "cell_type": "markdown",
      "metadata": {
        "id": "flzWtC9rBAJV",
        "colab_type": "text"
      },
      "source": [
        "### Operadores Booleanos"
      ]
    },
    {
      "cell_type": "code",
      "metadata": {
        "id": "QxR_bZ0dBAJZ",
        "colab_type": "code",
        "colab": {
          "base_uri": "https://localhost:8080/",
          "height": 34
        },
        "outputId": "77f26a3c-ccce-4d18-9cf8-9c5096f95b14"
      },
      "source": [
        "np.sum((inches > 0.5) & (inches < 1))"
      ],
      "execution_count": 34,
      "outputs": [
        {
          "output_type": "execute_result",
          "data": {
            "text/plain": [
              "29"
            ]
          },
          "metadata": {
            "tags": []
          },
          "execution_count": 34
        }
      ]
    },
    {
      "cell_type": "code",
      "metadata": {
        "id": "8VmLzEFuBAJi",
        "colab_type": "code",
        "colab": {
          "base_uri": "https://localhost:8080/",
          "height": 34
        },
        "outputId": "80074c8b-1615-4eed-c371-99b714b81053"
      },
      "source": [
        "np.sum(~( (inches <= 0.5) | (inches >= 1) ))"
      ],
      "execution_count": 35,
      "outputs": [
        {
          "output_type": "execute_result",
          "data": {
            "text/plain": [
              "29"
            ]
          },
          "metadata": {
            "tags": []
          },
          "execution_count": 35
        }
      ]
    },
    {
      "cell_type": "markdown",
      "metadata": {
        "id": "StaEzYAkBAJp",
        "colab_type": "text"
      },
      "source": [
        "| Operator\t    | Equivalent ufunc    || Operator\t    | Equivalent ufunc    |\n",
        "|---------------|---------------------||---------------|---------------------|\n",
        "|``&``          |``np.bitwise_and``   ||&#124;         |``np.bitwise_or``    |\n",
        "|``^``          |``np.bitwise_xor``   ||``~``          |``np.bitwise_not``   |"
      ]
    },
    {
      "cell_type": "code",
      "metadata": {
        "id": "DuIbBQ25BAJr",
        "colab_type": "code",
        "colab": {
          "base_uri": "https://localhost:8080/",
          "height": 85
        },
        "outputId": "86d72178-f828-496d-9d80-cfda9e14ac9a"
      },
      "source": [
        "print(\"Numero de dias sin lluvia:      \", np.sum(inches == 0))\n",
        "print(\"Numero de dias con lluvia:         \", np.sum(inches != 0))\n",
        "print(\"Dias con mas de 0.5 pulgadas:\", np.sum(inches > 0.5))\n",
        "print(\"Dias lluviosos con < 0.2 pulgadas  :\", np.sum((inches > 0) &\n",
        "                                                (inches < 0.2)))"
      ],
      "execution_count": 36,
      "outputs": [
        {
          "output_type": "stream",
          "text": [
            "('Numero de dias sin lluvia:      ', 215)\n",
            "('Numero de dias con lluvia:         ', 150)\n",
            "('Dias con mas de 0.5 pulgadas:', 37)\n",
            "('Dias lluviosos con < 0.2 pulgadas  :', 75)\n"
          ],
          "name": "stdout"
        }
      ]
    },
    {
      "cell_type": "markdown",
      "metadata": {
        "id": "-zCF1JRLBAJ2",
        "colab_type": "text"
      },
      "source": [
        "## Máscaras de Arrays Booleanos\n"
      ]
    },
    {
      "cell_type": "code",
      "metadata": {
        "id": "VhWjAP73BAJ4",
        "colab_type": "code",
        "colab": {
          "base_uri": "https://localhost:8080/",
          "height": 68
        },
        "outputId": "521c328a-6967-425a-c5be-d027e36fdf0d"
      },
      "source": [
        "x"
      ],
      "execution_count": 37,
      "outputs": [
        {
          "output_type": "execute_result",
          "data": {
            "text/plain": [
              "array([[5, 0, 3, 3],\n",
              "       [7, 9, 3, 5],\n",
              "       [2, 4, 7, 6]])"
            ]
          },
          "metadata": {
            "tags": []
          },
          "execution_count": 37
        }
      ]
    },
    {
      "cell_type": "code",
      "metadata": {
        "id": "Oagw1YboBAJ-",
        "colab_type": "code",
        "colab": {
          "base_uri": "https://localhost:8080/",
          "height": 68
        },
        "outputId": "ac635ab2-1e20-4dc5-8d02-22683936abdc"
      },
      "source": [
        "x < 5"
      ],
      "execution_count": 38,
      "outputs": [
        {
          "output_type": "execute_result",
          "data": {
            "text/plain": [
              "array([[False,  True,  True,  True],\n",
              "       [False, False,  True, False],\n",
              "       [ True,  True, False, False]])"
            ]
          },
          "metadata": {
            "tags": []
          },
          "execution_count": 38
        }
      ]
    },
    {
      "cell_type": "code",
      "metadata": {
        "id": "hPiiIGG4BAKY",
        "colab_type": "code",
        "colab": {
          "base_uri": "https://localhost:8080/",
          "height": 34
        },
        "outputId": "712685fb-6d3e-4d06-99ff-d0a167feca62"
      },
      "source": [
        "x[x < 5]"
      ],
      "execution_count": 39,
      "outputs": [
        {
          "output_type": "execute_result",
          "data": {
            "text/plain": [
              "array([0, 3, 3, 3, 2, 4])"
            ]
          },
          "metadata": {
            "tags": []
          },
          "execution_count": 39
        }
      ]
    },
    {
      "cell_type": "code",
      "metadata": {
        "id": "s38A5MJ8BAKu",
        "colab_type": "code",
        "colab": {
          "base_uri": "https://localhost:8080/",
          "height": 85
        },
        "outputId": "a9cc6e9d-edf2-41c4-f178-d283819aa335"
      },
      "source": [
        "# construya una mascara de todos los dias lluviosos\n",
        "rainy = (inches > 0)\n",
        "\n",
        "# construya una mascara de todos los dias de verano(el 21 de junio es el dia 172)\n",
        "days = np.arange(365)\n",
        "summer = (days > 172) & (days < 262)\n",
        "\n",
        "print(\"Precipitacion media en dias lluviosos en 2014 (pulgadas):   \",\n",
        "      np.median(inches[rainy]))\n",
        "print(\"Precipitacion media en dias de verano en 2014 (pulgadas):  \",\n",
        "      np.median(inches[summer]))\n",
        "print(\"Precipitacion maxima en dias de verano en 2014 (pulgadas): \",\n",
        "      np.max(inches[summer]))\n",
        "print(\"Precipitacion media en dias lluviosos que no son en verano (pulgadas):\",\n",
        "      np.median(inches[rainy & ~summer]))"
      ],
      "execution_count": 40,
      "outputs": [
        {
          "output_type": "stream",
          "text": [
            "('Precipitacion media en dias lluviosos en 2014 (pulgadas):   ', 0.19488188976377951)\n",
            "('Precipitacion media en dias de verano en 2014 (pulgadas):  ', 0.0)\n",
            "('Precipitacion maxima en dias de verano en 2014 (pulgadas): ', 0.8503937007874016)\n",
            "('Precipitacion media en dias lluviosos que no son en verano (pulgadas):', 0.20078740157480315)\n"
          ],
          "name": "stdout"
        }
      ]
    },
    {
      "cell_type": "markdown",
      "metadata": {
        "id": "WIzhLyI1BAK6",
        "colab_type": "text"
      },
      "source": [
        "## Usar las palabras reservadas ``and``/``or`` contra usar los operadores ``&``/``|``\n"
      ]
    },
    {
      "cell_type": "code",
      "metadata": {
        "id": "DVlMLa7XBAK8",
        "colab_type": "code",
        "colab": {
          "base_uri": "https://localhost:8080/",
          "height": 34
        },
        "outputId": "5806162a-ca09-42ee-ade4-b6925bb6c7cd"
      },
      "source": [
        "bool(42), bool(0)"
      ],
      "execution_count": 41,
      "outputs": [
        {
          "output_type": "execute_result",
          "data": {
            "text/plain": [
              "(True, False)"
            ]
          },
          "metadata": {
            "tags": []
          },
          "execution_count": 41
        }
      ]
    },
    {
      "cell_type": "code",
      "metadata": {
        "id": "2W79ErmFBALF",
        "colab_type": "code",
        "colab": {
          "base_uri": "https://localhost:8080/",
          "height": 34
        },
        "outputId": "04baa597-9d46-46f9-b77a-5b70377652a7"
      },
      "source": [
        "bool(42 and 0)"
      ],
      "execution_count": 42,
      "outputs": [
        {
          "output_type": "execute_result",
          "data": {
            "text/plain": [
              "False"
            ]
          },
          "metadata": {
            "tags": []
          },
          "execution_count": 42
        }
      ]
    },
    {
      "cell_type": "code",
      "metadata": {
        "id": "SwQf_I5gBALN",
        "colab_type": "code",
        "colab": {
          "base_uri": "https://localhost:8080/",
          "height": 34
        },
        "outputId": "9a488c85-2a1a-4036-896b-1094002edabc"
      },
      "source": [
        "bool(42 or 0)"
      ],
      "execution_count": 43,
      "outputs": [
        {
          "output_type": "execute_result",
          "data": {
            "text/plain": [
              "True"
            ]
          },
          "metadata": {
            "tags": []
          },
          "execution_count": 43
        }
      ]
    },
    {
      "cell_type": "code",
      "metadata": {
        "id": "-CEfmZ_qBALU",
        "colab_type": "code",
        "colab": {
          "base_uri": "https://localhost:8080/",
          "height": 34
        },
        "outputId": "6a5a22fa-c6c3-4297-bd95-6debf08c796e"
      },
      "source": [
        "bin(42)"
      ],
      "execution_count": 44,
      "outputs": [
        {
          "output_type": "execute_result",
          "data": {
            "text/plain": [
              "'0b101010'"
            ]
          },
          "metadata": {
            "tags": []
          },
          "execution_count": 44
        }
      ]
    },
    {
      "cell_type": "code",
      "metadata": {
        "id": "nTooTxjdBALa",
        "colab_type": "code",
        "colab": {
          "base_uri": "https://localhost:8080/",
          "height": 34
        },
        "outputId": "2bd088e8-697d-440a-fd3e-202f5b81d1fb"
      },
      "source": [
        "bin(59)"
      ],
      "execution_count": 45,
      "outputs": [
        {
          "output_type": "execute_result",
          "data": {
            "text/plain": [
              "'0b111011'"
            ]
          },
          "metadata": {
            "tags": []
          },
          "execution_count": 45
        }
      ]
    },
    {
      "cell_type": "code",
      "metadata": {
        "id": "VzsNwoU-BALf",
        "colab_type": "code",
        "colab": {
          "base_uri": "https://localhost:8080/",
          "height": 34
        },
        "outputId": "dec7b178-4d2a-40e9-9468-b83cebd17781"
      },
      "source": [
        "bin(42 & 59)"
      ],
      "execution_count": 46,
      "outputs": [
        {
          "output_type": "execute_result",
          "data": {
            "text/plain": [
              "'0b101010'"
            ]
          },
          "metadata": {
            "tags": []
          },
          "execution_count": 46
        }
      ]
    },
    {
      "cell_type": "code",
      "metadata": {
        "id": "NMgacKxUBALm",
        "colab_type": "code",
        "colab": {
          "base_uri": "https://localhost:8080/",
          "height": 34
        },
        "outputId": "a385481e-83e3-480c-d87b-c46ca1178177"
      },
      "source": [
        "bin(42 | 59)"
      ],
      "execution_count": 47,
      "outputs": [
        {
          "output_type": "execute_result",
          "data": {
            "text/plain": [
              "'0b111011'"
            ]
          },
          "metadata": {
            "tags": []
          },
          "execution_count": 47
        }
      ]
    },
    {
      "cell_type": "code",
      "metadata": {
        "id": "BQl3TZrQBALu",
        "colab_type": "code",
        "colab": {
          "base_uri": "https://localhost:8080/",
          "height": 34
        },
        "outputId": "15f0cfea-e07a-4cfa-8466-eabec0143605"
      },
      "source": [
        "A = np.array([1, 0, 1, 0, 1, 0], dtype=bool)\n",
        "B = np.array([1, 1, 1, 0, 1, 1], dtype=bool)\n",
        "A | B"
      ],
      "execution_count": 48,
      "outputs": [
        {
          "output_type": "execute_result",
          "data": {
            "text/plain": [
              "array([ True,  True,  True, False,  True,  True])"
            ]
          },
          "metadata": {
            "tags": []
          },
          "execution_count": 48
        }
      ]
    },
    {
      "cell_type": "code",
      "metadata": {
        "id": "ZFRWBF_3BAL4",
        "colab_type": "code",
        "colab": {
          "base_uri": "https://localhost:8080/",
          "height": 34
        },
        "outputId": "269b303e-f46d-4638-ee37-02e2304408e0"
      },
      "source": [
        "A.any() or B.any()"
      ],
      "execution_count": 49,
      "outputs": [
        {
          "output_type": "execute_result",
          "data": {
            "text/plain": [
              "True"
            ]
          },
          "metadata": {
            "tags": []
          },
          "execution_count": 49
        }
      ]
    },
    {
      "cell_type": "code",
      "metadata": {
        "id": "N61elwoGBAL_",
        "colab_type": "code",
        "colab": {
          "base_uri": "https://localhost:8080/",
          "height": 51
        },
        "outputId": "af034347-02c6-49f8-edce-db5a5189de7f"
      },
      "source": [
        "x = np.arange(10)\n",
        "(x > 4) & (x < 8)"
      ],
      "execution_count": 50,
      "outputs": [
        {
          "output_type": "execute_result",
          "data": {
            "text/plain": [
              "array([False, False, False, False, False,  True,  True,  True, False,\n",
              "       False])"
            ]
          },
          "metadata": {
            "tags": []
          },
          "execution_count": 50
        }
      ]
    },
    {
      "cell_type": "code",
      "metadata": {
        "id": "D5KATiRTBAMG",
        "colab_type": "code",
        "colab": {
          "base_uri": "https://localhost:8080/",
          "height": 34
        },
        "outputId": "f8f70631-6620-4d8a-dab6-4246f197228d"
      },
      "source": [
        "(x.any() > 4) and (x.any() < 8)"
      ],
      "execution_count": 52,
      "outputs": [
        {
          "output_type": "execute_result",
          "data": {
            "text/plain": [
              "False"
            ]
          },
          "metadata": {
            "tags": []
          },
          "execution_count": 52
        }
      ]
    },
    {
      "cell_type": "markdown",
      "metadata": {
        "id": "fHlRhqXxBAMS",
        "colab_type": "text"
      },
      "source": [
        "<!--NAVIGATION-->\n",
        "< [Cálculos con Arrays 2. Broadcasting](01.05-Computation-on-arrays-broadcasting.ipynb) | [Contenido](Index.ipynb) | [Indexado elegante](01.07-Fancy-Indexing.ipynb) >\n",
        "\n",
        "\n"
      ]
    },
    {
      "cell_type": "code",
      "metadata": {
        "id": "FEjSYEXJBQjk",
        "colab_type": "code",
        "colab": {}
      },
      "source": [
        ""
      ],
      "execution_count": 0,
      "outputs": []
    }
  ]
}