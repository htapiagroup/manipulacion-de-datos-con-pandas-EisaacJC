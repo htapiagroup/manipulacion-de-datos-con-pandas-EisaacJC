{
  "nbformat": 4,
  "nbformat_minor": 0,
  "metadata": {
    "anaconda-cloud": {},
    "kernelspec": {
      "display_name": "Python 2",
      "language": "python",
      "name": "python2"
    },
    "language_info": {
      "codemirror_mode": {
        "name": "ipython",
        "version": 2
      },
      "file_extension": ".py",
      "mimetype": "text/x-python",
      "name": "python",
      "nbconvert_exporter": "python",
      "pygments_lexer": "ipython2",
      "version": "2.7.15"
    },
    "colab": {
      "name": "01.08-Sorting.ipynb",
      "provenance": [],
      "include_colab_link": true
    }
  },
  "cells": [
    {
      "cell_type": "markdown",
      "metadata": {
        "id": "view-in-github",
        "colab_type": "text"
      },
      "source": [
        "<a href=\"https://colab.research.google.com/github/htapiagroup/manipulacion-de-datos-con-pandas-EisaacJC/blob/master/notebooks/01.08-Sorting.ipynb\" target=\"_parent\"><img src=\"https://colab.research.google.com/assets/colab-badge.svg\" alt=\"Open In Colab\"/></a>"
      ]
    },
    {
      "cell_type": "markdown",
      "metadata": {
        "id": "hFGhp4e9Y2y7",
        "colab_type": "text"
      },
      "source": [
        "\n",
        "<img align=\"left\" style=\"padding-right:10px;\" src=\"https://www.uv.mx/ffia/files/2012/09/playerLogo2.jpg\">\n",
        "\n",
        "El contenido ha sido adaptado para el curso de Introducción a la ciencia de Datos,\n",
        "por HTM y GED a partir del libro [Python Data Science Handbook](http://shop.oreilly.com/product/0636920034919.do) \n",
        "de Jake VanderPlas y se mantiene la licencia sobre el texto, \n",
        "[CC-BY-NC-ND license](https://creativecommons.org/licenses/by-nc-nd/3.0/us/legalcode), \n",
        "y sobre el codigo [MIT license](https://opensource.org/licenses/MIT).*MIT).*"
      ]
    },
    {
      "cell_type": "markdown",
      "metadata": {
        "id": "_GukO3iFY2zL",
        "colab_type": "text"
      },
      "source": [
        "<!--NAVIGATION-->\n",
        "< [Indexado elegante](01.07-Fancy-Indexing.ipynb) | [Contenido](Index.ipynb) | [Datos estructurados en NumPy](01.09-Structured-Data-NumPy.ipynb) >\n",
        "\n",
        "\n"
      ]
    },
    {
      "cell_type": "markdown",
      "metadata": {
        "id": "xLVshm8hY21x",
        "colab_type": "text"
      },
      "source": [
        "# Ordenando elementos de un arreglo"
      ]
    },
    {
      "cell_type": "code",
      "metadata": {
        "id": "J9kGjja5Y213",
        "colab_type": "code",
        "colab": {}
      },
      "source": [
        "import numpy as np\n",
        "\n",
        "def selection_sort(x):\n",
        "    for i in range(len(x)):\n",
        "        swap = i + np.argmin(x[i:])\n",
        "        (x[i], x[swap]) = (x[swap], x[i])\n",
        "    return x"
      ],
      "execution_count": 0,
      "outputs": []
    },
    {
      "cell_type": "code",
      "metadata": {
        "id": "Q09KDnxXY22O",
        "colab_type": "code",
        "colab": {
          "base_uri": "https://localhost:8080/",
          "height": 34
        },
        "outputId": "6c1845a1-dcac-4d88-c339-02337fec88b6"
      },
      "source": [
        "x = np.array([2, 1, 4, 3, 5])\n",
        "selection_sort(x)"
      ],
      "execution_count": 2,
      "outputs": [
        {
          "output_type": "execute_result",
          "data": {
            "text/plain": [
              "array([1, 2, 3, 4, 5])"
            ]
          },
          "metadata": {
            "tags": []
          },
          "execution_count": 2
        }
      ]
    },
    {
      "cell_type": "code",
      "metadata": {
        "id": "z6-916PtY22l",
        "colab_type": "code",
        "colab": {}
      },
      "source": [
        "def bogosort(x):\n",
        "    while np.any(x[:-1] > x[1:]):\n",
        "        np.random.shuffle(x)\n",
        "    return x"
      ],
      "execution_count": 0,
      "outputs": []
    },
    {
      "cell_type": "code",
      "metadata": {
        "id": "5B0RVQ9JY22t",
        "colab_type": "code",
        "colab": {
          "base_uri": "https://localhost:8080/",
          "height": 34
        },
        "outputId": "b5583701-504e-4672-c464-5a8550816b75"
      },
      "source": [
        "x = np.array([2, 1, 4, 3, 5])\n",
        "bogosort(x)"
      ],
      "execution_count": 4,
      "outputs": [
        {
          "output_type": "execute_result",
          "data": {
            "text/plain": [
              "array([1, 2, 3, 4, 5])"
            ]
          },
          "metadata": {
            "tags": []
          },
          "execution_count": 4
        }
      ]
    },
    {
      "cell_type": "markdown",
      "metadata": {
        "id": "4YyQlYEtY220",
        "colab_type": "text"
      },
      "source": [
        "##  Ordenando con NumPy: ``np.sort`` y ``np.argsort``\n"
      ]
    },
    {
      "cell_type": "code",
      "metadata": {
        "id": "idehx7J2Y222",
        "colab_type": "code",
        "colab": {
          "base_uri": "https://localhost:8080/",
          "height": 34
        },
        "outputId": "ef966d2a-ae86-45ee-b592-1eb87fed7e87"
      },
      "source": [
        "x = np.array([2, 1, 4, 3, 5])\n",
        "np.sort(x)"
      ],
      "execution_count": 5,
      "outputs": [
        {
          "output_type": "execute_result",
          "data": {
            "text/plain": [
              "array([1, 2, 3, 4, 5])"
            ]
          },
          "metadata": {
            "tags": []
          },
          "execution_count": 5
        }
      ]
    },
    {
      "cell_type": "code",
      "metadata": {
        "id": "vFLR4PwyY228",
        "colab_type": "code",
        "colab": {
          "base_uri": "https://localhost:8080/",
          "height": 34
        },
        "outputId": "8828bb86-82e7-489c-ae69-02d7e93fd3ec"
      },
      "source": [
        "x.sort()\n",
        "print(x)"
      ],
      "execution_count": 6,
      "outputs": [
        {
          "output_type": "stream",
          "text": [
            "[1 2 3 4 5]\n"
          ],
          "name": "stdout"
        }
      ]
    },
    {
      "cell_type": "code",
      "metadata": {
        "id": "cftRxUQXY23D",
        "colab_type": "code",
        "colab": {
          "base_uri": "https://localhost:8080/",
          "height": 34
        },
        "outputId": "0ad960fb-059f-40f2-9a81-8053cd7a9644"
      },
      "source": [
        "x = np.array([2, 1, 4, 3, 5])\n",
        "i = np.argsort(x)\n",
        "print(i)"
      ],
      "execution_count": 7,
      "outputs": [
        {
          "output_type": "stream",
          "text": [
            "[1 0 3 2 4]\n"
          ],
          "name": "stdout"
        }
      ]
    },
    {
      "cell_type": "code",
      "metadata": {
        "id": "Roq1zmv8Y23K",
        "colab_type": "code",
        "colab": {
          "base_uri": "https://localhost:8080/",
          "height": 34
        },
        "outputId": "c5bad445-6c9f-4860-e3af-dd63dc19ca4a"
      },
      "source": [
        "x[i]"
      ],
      "execution_count": 8,
      "outputs": [
        {
          "output_type": "execute_result",
          "data": {
            "text/plain": [
              "array([1, 2, 3, 4, 5])"
            ]
          },
          "metadata": {
            "tags": []
          },
          "execution_count": 8
        }
      ]
    },
    {
      "cell_type": "markdown",
      "metadata": {
        "id": "RROq93a1Y23X",
        "colab_type": "text"
      },
      "source": [
        "### Ordenando sobre renglones o columnas"
      ]
    },
    {
      "cell_type": "code",
      "metadata": {
        "id": "2QyeSe5kY23b",
        "colab_type": "code",
        "colab": {
          "base_uri": "https://localhost:8080/",
          "height": 84
        },
        "outputId": "680fa925-2721-4498-b58b-22d490cfa760"
      },
      "source": [
        "rand = np.random.RandomState(42)\n",
        "X = rand.randint(0, 10, (4, 6))\n",
        "print(X)"
      ],
      "execution_count": 9,
      "outputs": [
        {
          "output_type": "stream",
          "text": [
            "[[6 3 7 4 6 9]\n",
            " [2 6 7 4 3 7]\n",
            " [7 2 5 4 1 7]\n",
            " [5 1 4 0 9 5]]\n"
          ],
          "name": "stdout"
        }
      ]
    },
    {
      "cell_type": "code",
      "metadata": {
        "id": "H2gIgkGoY23m",
        "colab_type": "code",
        "colab": {
          "base_uri": "https://localhost:8080/",
          "height": 84
        },
        "outputId": "2a0fc7c6-d9dd-4415-8a64-6e80ffdf61b7"
      },
      "source": [
        "# sort each column of X\n",
        "np.sort(X, axis=0)"
      ],
      "execution_count": 10,
      "outputs": [
        {
          "output_type": "execute_result",
          "data": {
            "text/plain": [
              "array([[2, 1, 4, 0, 1, 5],\n",
              "       [5, 2, 5, 4, 3, 7],\n",
              "       [6, 3, 7, 4, 6, 7],\n",
              "       [7, 6, 7, 4, 9, 9]])"
            ]
          },
          "metadata": {
            "tags": []
          },
          "execution_count": 10
        }
      ]
    },
    {
      "cell_type": "code",
      "metadata": {
        "id": "Pb8dVufgY23x",
        "colab_type": "code",
        "colab": {
          "base_uri": "https://localhost:8080/",
          "height": 84
        },
        "outputId": "370fd36d-4098-4670-98f8-001f4e150f5c"
      },
      "source": [
        "# sort each row of X\n",
        "np.sort(X, axis=1)"
      ],
      "execution_count": 11,
      "outputs": [
        {
          "output_type": "execute_result",
          "data": {
            "text/plain": [
              "array([[3, 4, 6, 6, 7, 9],\n",
              "       [2, 3, 4, 6, 7, 7],\n",
              "       [1, 2, 4, 5, 7, 7],\n",
              "       [0, 1, 4, 5, 5, 9]])"
            ]
          },
          "metadata": {
            "tags": []
          },
          "execution_count": 11
        }
      ]
    },
    {
      "cell_type": "markdown",
      "metadata": {
        "id": "BQ88sAbOY238",
        "colab_type": "text"
      },
      "source": [
        "## Orden parcial: particiones\n"
      ]
    },
    {
      "cell_type": "code",
      "metadata": {
        "id": "wEIRCLiwY23_",
        "colab_type": "code",
        "colab": {
          "base_uri": "https://localhost:8080/",
          "height": 34
        },
        "outputId": "4cf6e837-6c3e-4508-e6fd-b525ac0238cc"
      },
      "source": [
        "x = np.array([7, 2, 3, 1, 6, 5, 4])\n",
        "np.partition(x, 3)"
      ],
      "execution_count": 12,
      "outputs": [
        {
          "output_type": "execute_result",
          "data": {
            "text/plain": [
              "array([2, 1, 3, 4, 6, 5, 7])"
            ]
          },
          "metadata": {
            "tags": []
          },
          "execution_count": 12
        }
      ]
    },
    {
      "cell_type": "code",
      "metadata": {
        "id": "Dkyt1oj2Y24I",
        "colab_type": "code",
        "colab": {
          "base_uri": "https://localhost:8080/",
          "height": 84
        },
        "outputId": "c7f613cb-7af9-4b82-9544-f24bc606c817"
      },
      "source": [
        "np.partition(X, 2, axis=1)"
      ],
      "execution_count": 13,
      "outputs": [
        {
          "output_type": "execute_result",
          "data": {
            "text/plain": [
              "array([[3, 4, 6, 7, 6, 9],\n",
              "       [2, 3, 4, 7, 6, 7],\n",
              "       [1, 2, 4, 5, 7, 7],\n",
              "       [0, 1, 4, 5, 9, 5]])"
            ]
          },
          "metadata": {
            "tags": []
          },
          "execution_count": 13
        }
      ]
    },
    {
      "cell_type": "markdown",
      "metadata": {
        "id": "vvshIRmxY24P",
        "colab_type": "text"
      },
      "source": [
        "## Ejemplo: K-Vecinos (K-Nearest Neighbors)\n"
      ]
    },
    {
      "cell_type": "code",
      "metadata": {
        "id": "iqsaQ381Y24S",
        "colab_type": "code",
        "colab": {}
      },
      "source": [
        "X = rand.rand(10, 2)"
      ],
      "execution_count": 0,
      "outputs": []
    },
    {
      "cell_type": "code",
      "metadata": {
        "id": "KoM5RuLIY24Z",
        "colab_type": "code",
        "colab": {
          "base_uri": "https://localhost:8080/",
          "height": 274
        },
        "outputId": "5e64baa1-71cb-4133-95fc-edbbf9066026"
      },
      "source": [
        "%matplotlib inline\n",
        "import matplotlib.pyplot as plt\n",
        "import seaborn; seaborn.set() # Plot styling\n",
        "plt.scatter(X[:, 0], X[:, 1], s=100);"
      ],
      "execution_count": 15,
      "outputs": [
        {
          "output_type": "display_data",
          "data": {
            "image/png": "[encoded data removed]",
            "text/plain": [
              "<Figure size 432x288 with 1 Axes>"
            ]
          },
          "metadata": {
            "tags": []
          }
        }
      ]
    },
    {
      "cell_type": "code",
      "metadata": {
        "id": "fAftnTCIY24g",
        "colab_type": "code",
        "colab": {}
      },
      "source": [
        "dist_sq = np.sum((X[:, np.newaxis, :] - X[np.newaxis, :, :]) ** 2, axis=-1)"
      ],
      "execution_count": 0,
      "outputs": []
    },
    {
      "cell_type": "code",
      "metadata": {
        "id": "yTSrEcOOY24m",
        "colab_type": "code",
        "colab": {
          "base_uri": "https://localhost:8080/",
          "height": 34
        },
        "outputId": "9c74c80c-de3b-416e-9098-42e62298344e"
      },
      "source": [
        "# for each pair of points, compute differences in their coordinates\n",
        "differences = X[:, np.newaxis, :] - X[np.newaxis, :, :]\n",
        "differences.shape"
      ],
      "execution_count": 17,
      "outputs": [
        {
          "output_type": "execute_result",
          "data": {
            "text/plain": [
              "(10, 10, 2)"
            ]
          },
          "metadata": {
            "tags": []
          },
          "execution_count": 17
        }
      ]
    },
    {
      "cell_type": "code",
      "metadata": {
        "id": "zb4SE0koY24t",
        "colab_type": "code",
        "colab": {
          "base_uri": "https://localhost:8080/",
          "height": 34
        },
        "outputId": "c2fddaf4-2d8b-44e0-b431-fcb7931390e7"
      },
      "source": [
        "# square the coordinate differences\n",
        "sq_differences = differences ** 2\n",
        "sq_differences.shape"
      ],
      "execution_count": 18,
      "outputs": [
        {
          "output_type": "execute_result",
          "data": {
            "text/plain": [
              "(10, 10, 2)"
            ]
          },
          "metadata": {
            "tags": []
          },
          "execution_count": 18
        }
      ]
    },
    {
      "cell_type": "code",
      "metadata": {
        "id": "XJEhXOskY244",
        "colab_type": "code",
        "colab": {
          "base_uri": "https://localhost:8080/",
          "height": 34
        },
        "outputId": "ccf9b5a8-6aa2-4300-93a7-fe3b6ef6339b"
      },
      "source": [
        "# sum the coordinate differences to get the squared distance\n",
        "dist_sq = sq_differences.sum(-1)\n",
        "dist_sq.shape"
      ],
      "execution_count": 19,
      "outputs": [
        {
          "output_type": "execute_result",
          "data": {
            "text/plain": [
              "(10, 10)"
            ]
          },
          "metadata": {
            "tags": []
          },
          "execution_count": 19
        }
      ]
    },
    {
      "cell_type": "code",
      "metadata": {
        "id": "9lh9MoxWY25H",
        "colab_type": "code",
        "colab": {
          "base_uri": "https://localhost:8080/",
          "height": 34
        },
        "outputId": "1e848339-e74e-48ff-a2b5-e6f7c8b7c88c"
      },
      "source": [
        "dist_sq.diagonal()"
      ],
      "execution_count": 20,
      "outputs": [
        {
          "output_type": "execute_result",
          "data": {
            "text/plain": [
              "array([0., 0., 0., 0., 0., 0., 0., 0., 0., 0.])"
            ]
          },
          "metadata": {
            "tags": []
          },
          "execution_count": 20
        }
      ]
    },
    {
      "cell_type": "code",
      "metadata": {
        "id": "oS-QPEOyY25O",
        "colab_type": "code",
        "colab": {
          "base_uri": "https://localhost:8080/",
          "height": 185
        },
        "outputId": "f7b31548-75b4-4a53-da39-e45175fdcf19"
      },
      "source": [
        "nearest = np.argsort(dist_sq, axis=1)\n",
        "print(nearest)"
      ],
      "execution_count": 21,
      "outputs": [
        {
          "output_type": "stream",
          "text": [
            "[[0 3 9 7 1 4 2 5 6 8]\n",
            " [1 4 7 9 3 6 8 5 0 2]\n",
            " [2 1 4 6 3 0 8 9 7 5]\n",
            " [3 9 7 0 1 4 5 8 6 2]\n",
            " [4 1 8 5 6 7 9 3 0 2]\n",
            " [5 8 6 4 1 7 9 3 2 0]\n",
            " [6 8 5 4 1 7 9 3 2 0]\n",
            " [7 9 3 1 4 0 5 8 6 2]\n",
            " [8 5 6 4 1 7 9 3 2 0]\n",
            " [9 7 3 0 1 4 5 8 6 2]]\n"
          ],
          "name": "stdout"
        }
      ]
    },
    {
      "cell_type": "code",
      "metadata": {
        "id": "a7L43t5WY25X",
        "colab_type": "code",
        "colab": {}
      },
      "source": [
        "K = 2\n",
        "nearest_partition = np.argpartition(dist_sq, K + 1, axis=1)"
      ],
      "execution_count": 0,
      "outputs": []
    },
    {
      "cell_type": "code",
      "metadata": {
        "id": "XoVtbU1IY25h",
        "colab_type": "code",
        "colab": {
          "base_uri": "https://localhost:8080/",
          "height": 274
        },
        "outputId": "ed4a4700-0962-4d13-b4bc-4b2d9e070077"
      },
      "source": [
        "plt.scatter(X[:, 0], X[:, 1], s=100)\n",
        "\n",
        "# draw lines from each point to its two nearest neighbors\n",
        "K = 2\n",
        "\n",
        "for i in range(X.shape[0]):\n",
        "    for j in nearest_partition[i, :K+1]:\n",
        "        # plot a line from X[i] to X[j]\n",
        "        # use some zip magic to make it happen:\n",
        "        plt.plot(*zip(X[j], X[i]), color='black')"
      ],
      "execution_count": 23,
      "outputs": [
        {
          "output_type": "display_data",
          "data": {
            "image/png": "[encoded data removed]",
            "text/plain": [
              "<Figure size 432x288 with 1 Axes>"
            ]
          },
          "metadata": {
            "tags": []
          }
        }
      ]
    },
    {
      "cell_type": "markdown",
      "metadata": {
        "id": "xn_ai9vpY25r",
        "colab_type": "text"
      },
      "source": [
        "<!--NAVIGATION-->\n",
        "< [Indexado elegante](01.07-Fancy-Indexing.ipynb) | [Contenido](Index.ipynb) | [Datos estructurados en NumPy](01.09-Structured-Data-NumPy.ipynb) >\n",
        "\n",
        "\n"
      ]
    },
    {
      "cell_type": "code",
      "metadata": {
        "id": "MohXEr71ZAnx",
        "colab_type": "code",
        "colab": {}
      },
      "source": [
        ""
      ],
      "execution_count": 0,
      "outputs": []
    }
  ]
}