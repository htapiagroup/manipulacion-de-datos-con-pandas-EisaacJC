{
  "nbformat": 4,
  "nbformat_minor": 0,
  "metadata": {
    "anaconda-cloud": {},
    "kernelspec": {
      "display_name": "Python 2",
      "language": "python",
      "name": "python2"
    },
    "language_info": {
      "codemirror_mode": {
        "name": "ipython",
        "version": 2
      },
      "file_extension": ".py",
      "mimetype": "text/x-python",
      "name": "python",
      "nbconvert_exporter": "python",
      "pygments_lexer": "ipython2",
      "version": "2.7.15"
    },
    "colab": {
      "name": "01.03-Computation-on-arrays-ufuncs.ipynb",
      "provenance": []
    }
  },
  "cells": [
    {
      "cell_type": "markdown",
      "metadata": {
        "id": "FpeDmXov7fhb",
        "colab_type": "text"
      },
      "source": [
        "<!--BOOK_INFORMATION-->\n",
        "<img align=\"left\" style=\"padding-right:10px;\" src=\"https://www.uv.mx/ffia/files/2012/09/playerLogo2.jpg\">\n",
        "\n",
        "El contenido ha sido adaptado para el curso de Introducción a la ciencia de Datos,\n",
        "por HTM y GED a partir del libro [Python Data Science Handbook](http://shop.oreilly.com/product/0636920034919.do) \n",
        "de Jake VanderPlas y se mantiene la licencia sobre el texto, \n",
        "[CC-BY-NC-ND license](https://creativecommons.org/licenses/by-nc-nd/3.0/us/legalcode), \n",
        "y sobre el codigo [MIT license](https://opensource.org/licenses/MIT).*"
      ]
    },
    {
      "cell_type": "markdown",
      "metadata": {
        "id": "LMCzCZ0U7fhi",
        "colab_type": "text"
      },
      "source": [
        "<!--NAVIGATION-->\n",
        "< [Basicos de NumPy: arreglos](01.02-The-Basics-Of-NumPy-Arrays.ipynb) | [Contenido](Index.ipynb) | [Agregaciones: Min, Max, etc.](01.04-Computation-on-arrays-aggregates.ipynb) >\n",
        "\n",
        "<a href=\"https://colab.research.google.com/github/htapia/TallerPythonIntroCienciaDatos/blob/master/notebooks/01.03-Computation-on-arrays-ufuncs.ipynb\"><img align=\"left\" src=\"https://colab.research.google.com/assets/colab-badge.svg\" alt=\"Open in Colab\" title=\"Open and Execute in Google Colaboratory\"></a>\n"
      ]
    },
    {
      "cell_type": "markdown",
      "metadata": {
        "id": "R5urrWcf7fhm",
        "colab_type": "text"
      },
      "source": [
        "# Cálculos con Arrays 1. Ufuncs"
      ]
    },
    {
      "cell_type": "markdown",
      "metadata": {
        "id": "yPEhPmV67fhp",
        "colab_type": "text"
      },
      "source": [
        "## Los Loops son Lentooosss"
      ]
    },
    {
      "cell_type": "code",
      "metadata": {
        "id": "VK1AXA0d7fht",
        "colab_type": "code",
        "colab": {
          "base_uri": "https://localhost:8080/",
          "height": 34
        },
        "outputId": "204ff234-5e15-4bae-f564-f12926b7cad8"
      },
      "source": [
        "import numpy as np\n",
        "np.random.seed(0)\n",
        "\n",
        "def compute_reciprocals(values):\n",
        "    output = np.empty(len(values))\n",
        "    for i in range(len(values)):\n",
        "        output[i] = 1.0 / values[i]\n",
        "    return output\n",
        "        \n",
        "values = np.random.randint(1, 10, size=5)\n",
        "compute_reciprocals(values)"
      ],
      "execution_count": 32,
      "outputs": [
        {
          "output_type": "execute_result",
          "data": {
            "text/plain": [
              "array([0.16666667, 1.        , 0.25      , 0.25      , 0.125     ])"
            ]
          },
          "metadata": {
            "tags": []
          },
          "execution_count": 32
        }
      ]
    },
    {
      "cell_type": "code",
      "metadata": {
        "id": "nKYTGo6a7fh5",
        "colab_type": "code",
        "colab": {
          "base_uri": "https://localhost:8080/",
          "height": 34
        },
        "outputId": "570af1d6-56d6-4c07-eef6-e2fb5fd21d01"
      },
      "source": [
        "big_array = np.random.randint(1, 100, size=1000000)\n",
        "%timeit compute_reciprocals(big_array)"
      ],
      "execution_count": 33,
      "outputs": [
        {
          "output_type": "stream",
          "text": [
            "1 loop, best of 3: 212 ms per loop\n"
          ],
          "name": "stdout"
        }
      ]
    },
    {
      "cell_type": "markdown",
      "metadata": {
        "id": "7lMDTGDj7fiC",
        "colab_type": "text"
      },
      "source": [
        "## UFuncs\n",
        "\n",
        "Operaciones *vectorizadas*"
      ]
    },
    {
      "cell_type": "code",
      "metadata": {
        "id": "P8yWeEqn7fiF",
        "colab_type": "code",
        "colab": {
          "base_uri": "https://localhost:8080/",
          "height": 51
        },
        "outputId": "27fc9c34-d9dc-42bc-be1e-aeae1715ffde"
      },
      "source": [
        "print(compute_reciprocals(values))\n",
        "print(1.0 / values)"
      ],
      "execution_count": 34,
      "outputs": [
        {
          "output_type": "stream",
          "text": [
            "[0.16666667 1.         0.25       0.25       0.125     ]\n",
            "[0.16666667 1.         0.25       0.25       0.125     ]\n"
          ],
          "name": "stdout"
        }
      ]
    },
    {
      "cell_type": "code",
      "metadata": {
        "id": "dxqEzWms7fiQ",
        "colab_type": "code",
        "colab": {
          "base_uri": "https://localhost:8080/",
          "height": 34
        },
        "outputId": "7368bed0-453f-4240-f72a-78520fa7af0f"
      },
      "source": [
        "%timeit (1.0 / big_array)"
      ],
      "execution_count": 35,
      "outputs": [
        {
          "output_type": "stream",
          "text": [
            "100 loops, best of 3: 3.1 ms per loop\n"
          ],
          "name": "stdout"
        }
      ]
    },
    {
      "cell_type": "code",
      "metadata": {
        "id": "eT9hOuaQ7fia",
        "colab_type": "code",
        "colab": {
          "base_uri": "https://localhost:8080/",
          "height": 34
        },
        "outputId": "b64569ea-a532-4655-f3c7-96b303ceaf10"
      },
      "source": [
        "np.arange(5) / np.arange(1, 6)"
      ],
      "execution_count": 36,
      "outputs": [
        {
          "output_type": "execute_result",
          "data": {
            "text/plain": [
              "array([0, 0, 0, 0, 0])"
            ]
          },
          "metadata": {
            "tags": []
          },
          "execution_count": 36
        }
      ]
    },
    {
      "cell_type": "code",
      "metadata": {
        "id": "94vQlE8B7fik",
        "colab_type": "code",
        "colab": {
          "base_uri": "https://localhost:8080/",
          "height": 68
        },
        "outputId": "050b94c6-cf67-4fda-c625-8f2a1dedf3e5"
      },
      "source": [
        "x = np.arange(9).reshape((3, 3))\n",
        "2 ** x"
      ],
      "execution_count": 37,
      "outputs": [
        {
          "output_type": "execute_result",
          "data": {
            "text/plain": [
              "array([[  1,   2,   4],\n",
              "       [  8,  16,  32],\n",
              "       [ 64, 128, 256]])"
            ]
          },
          "metadata": {
            "tags": []
          },
          "execution_count": 37
        }
      ]
    },
    {
      "cell_type": "markdown",
      "metadata": {
        "id": "kuYgvtxr7fiu",
        "colab_type": "text"
      },
      "source": [
        "Cálculos usando vectorizacion a través de ufuncs son en general más eficientes que la implementación usando loops"
      ]
    },
    {
      "cell_type": "markdown",
      "metadata": {
        "id": "bthR2TPR7fiw",
        "colab_type": "text"
      },
      "source": [
        "## Exploración de UFuncs\n",
        "\n",
        "Ufuncs: \n",
        "- *unary ufuncs*, operan sobre una sola entrada \n",
        "- *binary ufuncs*, operan sobre dos entradas."
      ]
    },
    {
      "cell_type": "markdown",
      "metadata": {
        "id": "nvGsDW0X7fiz",
        "colab_type": "text"
      },
      "source": [
        "### Aritmética de Array \n",
        "\n",
        "Las operaciones aritméticas de adición, substracción, multiplicación y división standard:"
      ]
    },
    {
      "cell_type": "code",
      "metadata": {
        "id": "xTy3Hxei7fi1",
        "colab_type": "code",
        "colab": {
          "base_uri": "https://localhost:8080/",
          "height": 119
        },
        "outputId": "e21fc76d-3a1e-4e82-924f-35bc0a1b68a3"
      },
      "source": [
        "x = np.arange(4)\n",
        "print(\"x     =\", x)\n",
        "print(\"x + 5 =\", x + 5)\n",
        "print(\"x - 5 =\", x - 5)\n",
        "print(\"x * 2 =\", x * 2)\n",
        "print(\"x / 2 =\", x / 2)\n",
        "print(\"x // 2 =\", x // 2)  # floor division"
      ],
      "execution_count": 38,
      "outputs": [
        {
          "output_type": "stream",
          "text": [
            "('x     =', array([0, 1, 2, 3]))\n",
            "('x + 5 =', array([5, 6, 7, 8]))\n",
            "('x - 5 =', array([-5, -4, -3, -2]))\n",
            "('x * 2 =', array([0, 2, 4, 6]))\n",
            "('x / 2 =', array([0, 0, 1, 1]))\n",
            "('x // 2 =', array([0, 0, 1, 1]))\n"
          ],
          "name": "stdout"
        }
      ]
    },
    {
      "cell_type": "markdown",
      "metadata": {
        "id": "jf5MI_cC7fi-",
        "colab_type": "text"
      },
      "source": [
        "Negation, operador de exponencia ``**`` y operador de módulo ``%``:"
      ]
    },
    {
      "cell_type": "code",
      "metadata": {
        "id": "cZZ-idS-7fjB",
        "colab_type": "code",
        "colab": {
          "base_uri": "https://localhost:8080/",
          "height": 68
        },
        "outputId": "17b55d6b-aabf-4b94-a1c3-06f71ee684e2"
      },
      "source": [
        "print(\"-x     = \", -x)\n",
        "print(\"x ** 2 = \", x ** 2)\n",
        "print(\"x % 2  = \", x % 2)"
      ],
      "execution_count": 39,
      "outputs": [
        {
          "output_type": "stream",
          "text": [
            "('-x     = ', array([ 0, -1, -2, -3]))\n",
            "('x ** 2 = ', array([0, 1, 4, 9]))\n",
            "('x % 2  = ', array([0, 1, 0, 1]))\n"
          ],
          "name": "stdout"
        }
      ]
    },
    {
      "cell_type": "markdown",
      "metadata": {
        "id": "Go9a-7cK7fjM",
        "colab_type": "text"
      },
      "source": [
        "Orden standard de las operaciones:"
      ]
    },
    {
      "cell_type": "code",
      "metadata": {
        "id": "8jwv7ykG7fjP",
        "colab_type": "code",
        "colab": {
          "base_uri": "https://localhost:8080/",
          "height": 34
        },
        "outputId": "0c4702df-b175-4376-977d-76ba11409e0d"
      },
      "source": [
        "-(0.5*x + 1) ** 2"
      ],
      "execution_count": 40,
      "outputs": [
        {
          "output_type": "execute_result",
          "data": {
            "text/plain": [
              "array([-1.  , -2.25, -4.  , -6.25])"
            ]
          },
          "metadata": {
            "tags": []
          },
          "execution_count": 40
        }
      ]
    },
    {
      "cell_type": "markdown",
      "metadata": {
        "id": "cJFi-IA07fjb",
        "colab_type": "text"
      },
      "source": [
        "El operador ``+`` es un wrapper para la función ``add``:"
      ]
    },
    {
      "cell_type": "code",
      "metadata": {
        "id": "sqcp4fY07fjh",
        "colab_type": "code",
        "colab": {
          "base_uri": "https://localhost:8080/",
          "height": 34
        },
        "outputId": "c62665d9-2314-4f1d-b7dc-ba7383b46a56"
      },
      "source": [
        "np.add(x, 2)"
      ],
      "execution_count": 41,
      "outputs": [
        {
          "output_type": "execute_result",
          "data": {
            "text/plain": [
              "array([2, 3, 4, 5])"
            ]
          },
          "metadata": {
            "tags": []
          },
          "execution_count": 41
        }
      ]
    },
    {
      "cell_type": "markdown",
      "metadata": {
        "id": "a_ueHtyA7fjr",
        "colab_type": "text"
      },
      "source": [
        "The siguiente tabla enlista los operadores aritméticos implementados en NumPy:\n",
        "\n",
        "| Operator\t    | Equivalent ufunc    | Description                           |\n",
        "|---------------|---------------------|---------------------------------------|\n",
        "|``+``          |``np.add``           |Addition (e.g., ``1 + 1 = 2``)         |\n",
        "|``-``          |``np.subtract``      |Subtraction (e.g., ``3 - 2 = 1``)      |\n",
        "|``-``          |``np.negative``      |Unary negation (e.g., ``-2``)          |\n",
        "|``*``          |``np.multiply``      |Multiplication (e.g., ``2 * 3 = 6``)   |\n",
        "|``/``          |``np.divide``        |Division (e.g., ``3 / 2 = 1.5``)       |\n",
        "|``//``         |``np.floor_divide``  |Floor division (e.g., ``3 // 2 = 1``)  |\n",
        "|``**``         |``np.power``         |Exponentiation (e.g., ``2 ** 3 = 8``)  |\n",
        "|``%``          |``np.mod``           |Modulus/remainder (e.g., ``9 % 4 = 1``)|\n",
        "\n",
        "Adicionalmente, hay operadores Boolean; exploraremos éstos en [Comparaciones, mascaras y logica booleana](01.06-Boolean-Arrays-and-Masks.ipynb)."
      ]
    },
    {
      "cell_type": "markdown",
      "metadata": {
        "id": "fcmRowaP7fju",
        "colab_type": "text"
      },
      "source": [
        "### Valor Absoluto\n"
      ]
    },
    {
      "cell_type": "code",
      "metadata": {
        "id": "fm-_lyf87fjw",
        "colab_type": "code",
        "colab": {
          "base_uri": "https://localhost:8080/",
          "height": 34
        },
        "outputId": "41fd0f54-eb72-4c32-c861-616c56cc146d"
      },
      "source": [
        "# Python abs\n",
        "x = np.array([-2, -1, 0, 1, 2])\n",
        "abs(x)"
      ],
      "execution_count": 42,
      "outputs": [
        {
          "output_type": "execute_result",
          "data": {
            "text/plain": [
              "array([2, 1, 0, 1, 2])"
            ]
          },
          "metadata": {
            "tags": []
          },
          "execution_count": 42
        }
      ]
    },
    {
      "cell_type": "code",
      "metadata": {
        "id": "Wi9o5B637fj5",
        "colab_type": "code",
        "colab": {
          "base_uri": "https://localhost:8080/",
          "height": 34
        },
        "outputId": "419d4e61-9ef6-47bc-e142-c503a7309bcd"
      },
      "source": [
        "np.absolute(x)"
      ],
      "execution_count": 43,
      "outputs": [
        {
          "output_type": "execute_result",
          "data": {
            "text/plain": [
              "array([2, 1, 0, 1, 2])"
            ]
          },
          "metadata": {
            "tags": []
          },
          "execution_count": 43
        }
      ]
    },
    {
      "cell_type": "code",
      "metadata": {
        "id": "AAANaVMd7fkC",
        "colab_type": "code",
        "colab": {
          "base_uri": "https://localhost:8080/",
          "height": 34
        },
        "outputId": "85bf439a-e1c0-4962-93f0-8263ff042c05"
      },
      "source": [
        "np.abs(x)"
      ],
      "execution_count": 44,
      "outputs": [
        {
          "output_type": "execute_result",
          "data": {
            "text/plain": [
              "array([2, 1, 0, 1, 2])"
            ]
          },
          "metadata": {
            "tags": []
          },
          "execution_count": 44
        }
      ]
    },
    {
      "cell_type": "markdown",
      "metadata": {
        "id": "KzaqsAEi7fkL",
        "colab_type": "text"
      },
      "source": [
        "Esta ufunc puede operar sobre números complejos:"
      ]
    },
    {
      "cell_type": "code",
      "metadata": {
        "id": "vfojw6-I7fkO",
        "colab_type": "code",
        "colab": {
          "base_uri": "https://localhost:8080/",
          "height": 34
        },
        "outputId": "126f1c0e-40a1-4e44-a408-caf3a64b5955"
      },
      "source": [
        "x = np.array([3 - 4j, 4 - 3j, 2 + 0j, 0 + 1j])\n",
        "np.abs(x)"
      ],
      "execution_count": 45,
      "outputs": [
        {
          "output_type": "execute_result",
          "data": {
            "text/plain": [
              "array([5., 5., 2., 1.])"
            ]
          },
          "metadata": {
            "tags": []
          },
          "execution_count": 45
        }
      ]
    },
    {
      "cell_type": "markdown",
      "metadata": {
        "id": "hDVpa6ZP7fkX",
        "colab_type": "text"
      },
      "source": [
        "### Funciones Trigonometricas\n"
      ]
    },
    {
      "cell_type": "code",
      "metadata": {
        "id": "2_xOn7wC7fkZ",
        "colab_type": "code",
        "colab": {}
      },
      "source": [
        "theta = np.linspace(0, np.pi, 3)"
      ],
      "execution_count": 0,
      "outputs": []
    },
    {
      "cell_type": "code",
      "metadata": {
        "id": "igdgAl6r7fki",
        "colab_type": "code",
        "colab": {
          "base_uri": "https://localhost:8080/",
          "height": 85
        },
        "outputId": "376003d6-a2bb-4383-f4c0-852c27f73183"
      },
      "source": [
        "print(\"theta      = \", theta)\n",
        "print(\"sin(theta) = \", np.sin(theta))\n",
        "print(\"cos(theta) = \", np.cos(theta))\n",
        "print(\"tan(theta) = \", np.tan(theta))"
      ],
      "execution_count": 47,
      "outputs": [
        {
          "output_type": "stream",
          "text": [
            "('theta      = ', array([0.        , 1.57079633, 3.14159265]))\n",
            "('sin(theta) = ', array([0.0000000e+00, 1.0000000e+00, 1.2246468e-16]))\n",
            "('cos(theta) = ', array([ 1.000000e+00,  6.123234e-17, -1.000000e+00]))\n",
            "('tan(theta) = ', array([ 0.00000000e+00,  1.63312394e+16, -1.22464680e-16]))\n"
          ],
          "name": "stdout"
        }
      ]
    },
    {
      "cell_type": "code",
      "metadata": {
        "id": "g_vdAaHK7fk3",
        "colab_type": "code",
        "colab": {
          "base_uri": "https://localhost:8080/",
          "height": 85
        },
        "outputId": "5ebc4156-43a3-4490-ca52-6f7682b58b43"
      },
      "source": [
        "x = [-1, 0, 1]\n",
        "print(\"x         = \", x)\n",
        "print(\"arcsin(x) = \", np.arcsin(x))\n",
        "print(\"arccos(x) = \", np.arccos(x))\n",
        "print(\"arctan(x) = \", np.arctan(x))"
      ],
      "execution_count": 48,
      "outputs": [
        {
          "output_type": "stream",
          "text": [
            "('x         = ', [-1, 0, 1])\n",
            "('arcsin(x) = ', array([-1.57079633,  0.        ,  1.57079633]))\n",
            "('arccos(x) = ', array([3.14159265, 1.57079633, 0.        ]))\n",
            "('arctan(x) = ', array([-0.78539816,  0.        ,  0.78539816]))\n"
          ],
          "name": "stdout"
        }
      ]
    },
    {
      "cell_type": "markdown",
      "metadata": {
        "id": "6RvasQDY7flE",
        "colab_type": "text"
      },
      "source": [
        "### Exponentes y Logaritmos\n"
      ]
    },
    {
      "cell_type": "code",
      "metadata": {
        "id": "meI7Znzz7flG",
        "colab_type": "code",
        "colab": {
          "base_uri": "https://localhost:8080/",
          "height": 85
        },
        "outputId": "73dd730d-b702-4686-a5fc-db781fb976aa"
      },
      "source": [
        "x = [4, 4, 7]\n",
        "print(\"x     =\", x)\n",
        "print(\"e^x   =\", np.exp(x))\n",
        "print(\"2^x   =\", np.exp2(x))\n",
        "print(\"3^x   =\", np.power(3, x))"
      ],
      "execution_count": 49,
      "outputs": [
        {
          "output_type": "stream",
          "text": [
            "('x     =', [4, 4, 7])\n",
            "('e^x   =', array([  54.59815003,   54.59815003, 1096.63315843]))\n",
            "('2^x   =', array([ 16.,  16., 128.]))\n",
            "('3^x   =', array([  81,   81, 2187]))\n"
          ],
          "name": "stdout"
        }
      ]
    },
    {
      "cell_type": "code",
      "metadata": {
        "id": "CL6TyZmE7flP",
        "colab_type": "code",
        "colab": {
          "base_uri": "https://localhost:8080/",
          "height": 85
        },
        "outputId": "6f32c2f7-e4e1-4a0d-9f91-a012f1b891b3"
      },
      "source": [
        "x = [1, 2, 5, 20]\n",
        "print(\"x        =\", x)\n",
        "print(\"ln(x)    =\", np.log(x))\n",
        "print(\"log2(x)  =\", np.log2(x))\n",
        "print(\"log10(x) =\", np.log10(x))"
      ],
      "execution_count": 50,
      "outputs": [
        {
          "output_type": "stream",
          "text": [
            "('x        =', [1, 2, 5, 20])\n",
            "('ln(x)    =', array([0.        , 0.69314718, 1.60943791, 2.99573227]))\n",
            "('log2(x)  =', array([0.        , 1.        , 2.32192809, 4.32192809]))\n",
            "('log10(x) =', array([0.     , 0.30103, 0.69897, 1.30103]))\n"
          ],
          "name": "stdout"
        }
      ]
    },
    {
      "cell_type": "code",
      "metadata": {
        "id": "adG4TXqG7fl5",
        "colab_type": "code",
        "colab": {
          "base_uri": "https://localhost:8080/",
          "height": 51
        },
        "outputId": "710e46dc-acee-40d6-f53e-78fcdac1dd31"
      },
      "source": [
        "# for small input\n",
        "x = [0, 0.001, 0.01, 0.1]\n",
        "print(\"exp(x) - 1 =\", np.expm1(x))\n",
        "print(\"log(1 + x) =\", np.log1p(x))"
      ],
      "execution_count": 51,
      "outputs": [
        {
          "output_type": "stream",
          "text": [
            "('exp(x) - 1 =', array([0.        , 0.0010005 , 0.01005017, 0.10517092]))\n",
            "('log(1 + x) =', array([0.        , 0.0009995 , 0.00995033, 0.09531018]))\n"
          ],
          "name": "stdout"
        }
      ]
    },
    {
      "cell_type": "markdown",
      "metadata": {
        "id": "m1jm5xAN7fmB",
        "colab_type": "text"
      },
      "source": [
        "### Ufuncs especializadas\n"
      ]
    },
    {
      "cell_type": "code",
      "metadata": {
        "id": "yhU9lXRD7fmD",
        "colab_type": "code",
        "colab": {}
      },
      "source": [
        "from scipy import special"
      ],
      "execution_count": 0,
      "outputs": []
    },
    {
      "cell_type": "code",
      "metadata": {
        "id": "vkGOMp9K7fmJ",
        "colab_type": "code",
        "colab": {
          "base_uri": "https://localhost:8080/",
          "height": 68
        },
        "outputId": "82bd9fc4-d130-48d1-d091-753a96e2256e"
      },
      "source": [
        "# Gamma functions (generalized factorials) and related functions\n",
        "x = [1, 5, 10]\n",
        "print(\"gamma(x)     =\", special.gamma(x))\n",
        "print(\"ln|gamma(x)| =\", special.gammaln(x))\n",
        "print(\"beta(x, 2)   =\", special.beta(x, 2))"
      ],
      "execution_count": 53,
      "outputs": [
        {
          "output_type": "stream",
          "text": [
            "('gamma(x)     =', array([1.0000e+00, 2.4000e+01, 3.6288e+05]))\n",
            "('ln|gamma(x)| =', array([ 0.        ,  3.17805383, 12.80182748]))\n",
            "('beta(x, 2)   =', array([0.5       , 0.03333333, 0.00909091]))\n"
          ],
          "name": "stdout"
        }
      ]
    },
    {
      "cell_type": "code",
      "metadata": {
        "id": "73g7peO17fmR",
        "colab_type": "code",
        "colab": {
          "base_uri": "https://localhost:8080/",
          "height": 68
        },
        "outputId": "b173b19a-490a-4483-80d2-9db6b2f6f92e"
      },
      "source": [
        "# Error function (integral of Gaussian)\n",
        "# its complement, and its inverse\n",
        "x = np.array([0, 0.3, 0.7, 1.0])\n",
        "print(\"erf(x)  =\", special.erf(x))\n",
        "print(\"erfc(x) =\", special.erfc(x))\n",
        "print(\"erfinv(x) =\", special.erfinv(x))"
      ],
      "execution_count": 54,
      "outputs": [
        {
          "output_type": "stream",
          "text": [
            "('erf(x)  =', array([0.        , 0.32862676, 0.67780119, 0.84270079]))\n",
            "('erfc(x) =', array([1.        , 0.67137324, 0.32219881, 0.15729921]))\n",
            "('erfinv(x) =', array([0.        , 0.27246271, 0.73286908,        inf]))\n"
          ],
          "name": "stdout"
        }
      ]
    },
    {
      "cell_type": "markdown",
      "metadata": {
        "id": "oWzWoEn77fmZ",
        "colab_type": "text"
      },
      "source": [
        "## Propiedades Avanzadas de Ufunc \n"
      ]
    },
    {
      "cell_type": "markdown",
      "metadata": {
        "id": "quLNztOp7fmb",
        "colab_type": "text"
      },
      "source": [
        "### Especificando la salida\n",
        "\n",
        "Todas las ufuncs pueden usar el argumento ``out`` para indicar donde asignar el resultado"
      ]
    },
    {
      "cell_type": "code",
      "metadata": {
        "id": "PTP0vQ5R7fmd",
        "colab_type": "code",
        "colab": {
          "base_uri": "https://localhost:8080/",
          "height": 34
        },
        "outputId": "82401052-5b80-4aee-f15f-59ed21bb2801"
      },
      "source": [
        "x = np.arange(5)\n",
        "y = np.empty(5)\n",
        "np.multiply(x, 10, out=y)\n",
        "print(y)"
      ],
      "execution_count": 55,
      "outputs": [
        {
          "output_type": "stream",
          "text": [
            "[ 0. 10. 20. 30. 40.]\n"
          ],
          "name": "stdout"
        }
      ]
    },
    {
      "cell_type": "code",
      "metadata": {
        "id": "B1lDDFUG7fmk",
        "colab_type": "code",
        "colab": {
          "base_uri": "https://localhost:8080/",
          "height": 34
        },
        "outputId": "f2b6eefc-591f-4e7a-adcd-b0f17ccaf092"
      },
      "source": [
        "y = np.zeros(10)\n",
        "np.power(2, x, out=y[::2])\n",
        "print(y)"
      ],
      "execution_count": 56,
      "outputs": [
        {
          "output_type": "stream",
          "text": [
            "[ 1.  0.  2.  0.  4.  0.  8.  0. 16.  0.]\n"
          ],
          "name": "stdout"
        }
      ]
    },
    {
      "cell_type": "code",
      "metadata": {
        "id": "-N4sKhU27fmr",
        "colab_type": "code",
        "colab": {}
      },
      "source": [
        "# lo mismo pero crea un array temporal para guardar el resultado de 2**x, \n",
        "# seguido de una segunda operacion que copia esos valores a y \n",
        "# que puede ser costoso para arrays grandes\n",
        "y = np.zeros(10)\n",
        "y[::2] = 2**x"
      ],
      "execution_count": 0,
      "outputs": []
    },
    {
      "cell_type": "markdown",
      "metadata": {
        "id": "uqPUwcKE7fmz",
        "colab_type": "text"
      },
      "source": [
        "### Agregaciones\n"
      ]
    },
    {
      "cell_type": "code",
      "metadata": {
        "id": "rv9QBrSc7fm1",
        "colab_type": "code",
        "colab": {
          "base_uri": "https://localhost:8080/",
          "height": 34
        },
        "outputId": "cc550b50-15f5-441b-907b-fd37480a1ca6"
      },
      "source": [
        "x = np.arange(1, 6)\n",
        "np.add.reduce(x)"
      ],
      "execution_count": 58,
      "outputs": [
        {
          "output_type": "execute_result",
          "data": {
            "text/plain": [
              "15"
            ]
          },
          "metadata": {
            "tags": []
          },
          "execution_count": 58
        }
      ]
    },
    {
      "cell_type": "code",
      "metadata": {
        "id": "YfKOH2Am7fnA",
        "colab_type": "code",
        "colab": {
          "base_uri": "https://localhost:8080/",
          "height": 34
        },
        "outputId": "1ac929a6-d285-45cf-c569-c5c521714545"
      },
      "source": [
        "np.multiply.reduce(x)"
      ],
      "execution_count": 59,
      "outputs": [
        {
          "output_type": "execute_result",
          "data": {
            "text/plain": [
              "120"
            ]
          },
          "metadata": {
            "tags": []
          },
          "execution_count": 59
        }
      ]
    },
    {
      "cell_type": "code",
      "metadata": {
        "id": "eo2mBKrJ7fnI",
        "colab_type": "code",
        "colab": {
          "base_uri": "https://localhost:8080/",
          "height": 34
        },
        "outputId": "4cefa5eb-75ae-4b57-9e13-4f06121b8956"
      },
      "source": [
        "np.add.accumulate(x)"
      ],
      "execution_count": 60,
      "outputs": [
        {
          "output_type": "execute_result",
          "data": {
            "text/plain": [
              "array([ 1,  3,  6, 10, 15])"
            ]
          },
          "metadata": {
            "tags": []
          },
          "execution_count": 60
        }
      ]
    },
    {
      "cell_type": "code",
      "metadata": {
        "id": "Bt6H-OUi7fnP",
        "colab_type": "code",
        "colab": {
          "base_uri": "https://localhost:8080/",
          "height": 34
        },
        "outputId": "25aaf343-c745-40c4-c1ac-828c5e1dc0b7"
      },
      "source": [
        "np.multiply.accumulate(x)"
      ],
      "execution_count": 61,
      "outputs": [
        {
          "output_type": "execute_result",
          "data": {
            "text/plain": [
              "array([  1,   2,   6,  24, 120])"
            ]
          },
          "metadata": {
            "tags": []
          },
          "execution_count": 61
        }
      ]
    },
    {
      "cell_type": "markdown",
      "metadata": {
        "id": "A4fr3njo7fnV",
        "colab_type": "text"
      },
      "source": [
        "Exploraremos un poco mas en [Agregaciones: Min, Max, etc.](01.04-Computation-on-arrays-aggregates.ipynb)."
      ]
    },
    {
      "cell_type": "markdown",
      "metadata": {
        "id": "Bo6eTu6l7fnX",
        "colab_type": "text"
      },
      "source": [
        "### Productos exteriores\n"
      ]
    },
    {
      "cell_type": "code",
      "metadata": {
        "scrolled": true,
        "id": "zrq-qwq27fnZ",
        "colab_type": "code",
        "colab": {
          "base_uri": "https://localhost:8080/",
          "height": 102
        },
        "outputId": "af81d4f2-44a0-48a7-f757-829b2e3dc155"
      },
      "source": [
        "x = np.arange(1, 6)\n",
        "np.multiply.outer(x, x)"
      ],
      "execution_count": 62,
      "outputs": [
        {
          "output_type": "execute_result",
          "data": {
            "text/plain": [
              "array([[ 1,  2,  3,  4,  5],\n",
              "       [ 2,  4,  6,  8, 10],\n",
              "       [ 3,  6,  9, 12, 15],\n",
              "       [ 4,  8, 12, 16, 20],\n",
              "       [ 5, 10, 15, 20, 25]])"
            ]
          },
          "metadata": {
            "tags": []
          },
          "execution_count": 62
        }
      ]
    },
    {
      "cell_type": "markdown",
      "metadata": {
        "id": "WCwQYB8r7fnf",
        "colab_type": "text"
      },
      "source": [
        "Otros métodos se exploran en [Más índices](01.07-Fancy-Indexing.ipynb),asi como la habilidad de operar entre arrays de distintos tamaños y formas, llamado *broadcasting*, que se ve en [Calculos con Arrays 2. Broadcasting](01.05-Computation-on-arrays-broadcasting.ipynb)."
      ]
    },
    {
      "cell_type": "markdown",
      "metadata": {
        "id": "CFGfV0fx7fnh",
        "colab_type": "text"
      },
      "source": [
        "## Ufuncs: Más información"
      ]
    },
    {
      "cell_type": "markdown",
      "metadata": {
        "id": "56F010m27fnk",
        "colab_type": "text"
      },
      "source": [
        "Más información sobre las funciones universales puede consultarse en la documentación de [NumPy](http://www.numpy.org) y [SciPy](http://www.scipy.org)."
      ]
    },
    {
      "cell_type": "markdown",
      "metadata": {
        "id": "AHnm4LMY7fnm",
        "colab_type": "text"
      },
      "source": [
        "<!--NAVIGATION-->\n",
        "< [Basicos de NumPy: arreglos](01.02-The-Basics-Of-NumPy-Arrays.ipynb) | [Contenido](Index.ipynb) | [Agregaciones: Min, Max, etc.](01.04-Computation-on-arrays-aggregates.ipynb) >\n",
        "\n",
        "<a href=\"https://colab.research.google.com/github/htapia/TallerPythonIntroCienciaDatos/blob/master/notebooks/01.03-Computation-on-arrays-ufuncs.ipynb\"><img align=\"left\" src=\"https://colab.research.google.com/assets/colab-badge.svg\" alt=\"Open in Colab\" title=\"Open and Execute in Google Colaboratory\"></a>\n"
      ]
    }
  ]
}