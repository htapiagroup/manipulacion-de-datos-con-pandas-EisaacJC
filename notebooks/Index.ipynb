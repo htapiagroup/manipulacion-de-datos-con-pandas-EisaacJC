{
  "nbformat": 4,
  "nbformat_minor": 0,
  "metadata": {
    "anaconda-cloud": {},
    "colab": {
      "name": "Index.ipynb",
      "provenance": [],
      "include_colab_link": true
    },
    "kernelspec": {
      "display_name": "Python 2",
      "language": "python",
      "name": "python2"
    },
    "language_info": {
      "codemirror_mode": {
        "name": "ipython",
        "version": 2
      },
      "file_extension": ".py",
      "mimetype": "text/x-python",
      "name": "python",
      "nbconvert_exporter": "python",
      "pygments_lexer": "ipython2",
      "version": "2.7.15"
    }
  },
  "cells": [
    {
      "cell_type": "markdown",
      "metadata": {
        "id": "view-in-github",
        "colab_type": "text"
      },
      "source": [
        "<a href=\"https://colab.research.google.com/github/htapiagroup/manipulacion-de-datos-con-pandas-EisaacJC/blob/master/notebooks/Index.ipynb\" target=\"_parent\"><img src=\"https://colab.research.google.com/assets/colab-badge.svg\" alt=\"Open In Colab\"/></a>"
      ]
    },
    {
      "cell_type": "markdown",
      "metadata": {
        "colab_type": "text",
        "id": "tBlFttIbtfbw"
      },
      "source": [
        "![Header](https://www.uv.mx/ffia/files/2012/09/playerLogo2.jpg\n",
        ")\n",
        "# Taller de Python Física UV\n"
      ]
    },
    {
      "cell_type": "markdown",
      "metadata": {
        "colab_type": "text",
        "id": "s_ljDhXitfb5"
      },
      "source": [
        "Las siguientes libretas de Jupyter contienen el material para el curso optativo de \"Introducción a la ciencia de Datos\" en la facultad de Física, UV.] El material está basado en el libro [Python Data Science Handbook](http://shop.oreilly.com/product/0636920034919.do) de Jake VanderPlas; el contenido **original** está disponible [en GitHub](https://github.com/jakevdp/PythonDataScienceHandbook).\n"
      ]
    },
    {
      "cell_type": "markdown",
      "metadata": {
        "colab_type": "text",
        "id": "cXsDhlTDtfb7"
      },
      "source": [
        "## Agenda tentativa\n",
        "\n",
        "Tema | Dia | Horario\n",
        "--- | --- | ---\n",
        "Introduccion a NumPy | 10/26 | 9:00 - 10:30\n",
        "Manipulacion de datos con Pandas | 10/26 | 10:30 - 12:00\n",
        "Manipulacion de datos con Pandas | 11/26 | 8:30 - 9:30\n",
        "Aprendizaje Automatico | 11/26 | 9:30 - 11:30\n"
      ]
    },
    {
      "cell_type": "markdown",
      "metadata": {
        "id": "x8d1XR6xx4cq",
        "colab_type": "text"
      },
      "source": [
        "### [Prefacio](00.00-Preface.ipynb)\n",
        "\n",
        "### [1. Introducción a NumPy](01.00-Introduction-to-NumPy.ipynb)\n",
        "- [Tipos de Datos en Python](01.01-Understanding-Data-Types.ipynb)\n",
        "- [Basicos de NumPy: arreglos](01.02-The-Basics-Of-NumPy-Arrays.ipynb)\n",
        "- [Cálculos con Arrays 1. Ufuncs](01.03-Computation-on-arrays-ufuncs.ipynb)\n",
        "- [Agregaciones: Min, Max, etc.](01.04-Computation-on-arrays-aggregates.ipynb)\n",
        "- [Cálculos con Arrays 2. Broadcasting](01.05-Computation-on-arrays-broadcasting.ipynb)\n",
        "- [Comparaciones, máscaras y lógica booleana](01.06-Boolean-Arrays-and-Masks.ipynb)\n",
        "- [Indexado elegante](01.07-Fancy-Indexing.ipynb)\n",
        "- [Ordenando elementos de un arreglo](01.08-Sorting.ipynb)\n",
        "- [Datos estructurados en NumPy](01.09-Structured-Data-NumPy.ipynb)\n",
        "\n",
        "### [2. Manipulación de datos con Pandas](02.00-Introduction-to-Pandas.ipynb)\n",
        "- [Introducción a los objetos de Pandas](02.01-Introducing-Pandas-Objects.ipynb)\n",
        "- [Indices y selección de datos](02.02-Data-Indexing-and-Selection.ipynb)\n",
        "- [Operaciones sobre datos en Pandas](02.03-Operations-in-Pandas.ipynb)\n",
        "- [Datos faltantes](02.04-Missing-Values.ipynb)\n",
        "- [Combinando datos: concatenación y anexión](02.05-Concat-And-Append.ipynb)\n",
        "- [Combinando datos: *merge* y *join*](02.06-Merge-and-Join.ipynb)\n",
        "- [Agregaciones y agrupaciones](02.07-Aggregation-and-Grouping.ipynb)\n",
        "- [Operaciones sobre texto](02.08-Working-With-Strings.ipynb)\n",
        "- [Series de tiempo](02.09-Working-with-Time-Series.ipynb)\n",
        "\n",
        "### [3. Machine Learning](03.00-Machine-Learning.ipynb)\n",
        "- [¿Qué es Machine Learning?](03.01-What-Is-Machine-Learning.ipynb)\n",
        "- [Introduciendo Scikit-Learn](03.02-Introducing-Scikit-Learn.ipynb)\n",
        "- [Hiperparámetros y validación de modelos](03.03-Hyperparameters-and-Model-Validation.ipynb)\n",
        "- [Ingeniería de Atributos](03.04-Feature-Engineering.ipynb)\n",
        "- [Clasificacion usando Naive Bayes](03.05-Naive-Bayes.ipynb)\n",
        "- [Regresión Lineal](03.06-Linear-Regression.ipynb)\n",
        "- [Aplicacion: DCI](03.07-Image-Features.ipynb)\n",
        "- [Recursos adicionales Machine Learning](03.08-Learning-More.ipynb)"
      ]
    }
  ]
}