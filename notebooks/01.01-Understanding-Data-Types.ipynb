{
  "nbformat": 4,
  "nbformat_minor": 0,
  "metadata": {
    "anaconda-cloud": {},
    "kernelspec": {
      "display_name": "Python 3",
      "language": "python",
      "name": "python2"
    },
    "language_info": {
      "codemirror_mode": {
        "name": "ipython",
        "version": 2
      },
      "file_extension": ".py",
      "mimetype": "text/x-python",
      "name": "python",
      "nbconvert_exporter": "python",
      "pygments_lexer": "ipython2",
      "version": "2.7.15"
    },
    "colab": {
      "name": "01.01-Understanding-Data-Types.ipynb",
      "provenance": [],
      "include_colab_link": true
    }
  },
  "cells": [
    {
      "cell_type": "markdown",
      "metadata": {
        "id": "view-in-github",
        "colab_type": "text"
      },
      "source": [
        "<a href=\"https://colab.research.google.com/github/htapiagroup/manipulacion-de-datos-con-pandas-EisaacJC/blob/master/notebooks/01.01-Understanding-Data-Types.ipynb\" target=\"_parent\"><img src=\"https://colab.research.google.com/assets/colab-badge.svg\" alt=\"Open In Colab\"/></a>"
      ]
    },
    {
      "cell_type": "markdown",
      "metadata": {
        "id": "X6jFOnvG38HN",
        "colab_type": "text"
      },
      "source": [
        "<!--BOOK_INFORMATION-->\n",
        "<img align=\"left\" style=\"padding-right:10px;\" src=\"https://www.uv.mx/ffia/files/2012/09/playerLogo2.jpg\">\n",
        "\n",
        "El contenido ha sido adaptado para el curso de Introducción a la ciencia de Datos,\n",
        "por HTM y GED a partir del libro [Python Data Science Handbook](http://shop.oreilly.com/product/0636920034919.do) \n",
        "de Jake VanderPlas y se mantiene la licencia sobre el texto, \n",
        "[CC-BY-NC-ND license](https://creativecommons.org/licenses/by-nc-nd/3.0/us/legalcode), \n",
        "y sobre el codigo [MIT license](https://opensource.org/licenses/MIT).*"
      ]
    },
    {
      "cell_type": "markdown",
      "metadata": {
        "id": "EBIQwdAA38HT",
        "colab_type": "text"
      },
      "source": [
        "<!--NAVIGATION-->\n",
        "< [Introducción a NumPy](01.00-Introduction-to-NumPy.ipynb) | [Contenido](Index.ipynb) | [Basicos de NumPy: arreglos](01.02-The-Basics-Of-NumPy-Arrays.ipynb) >\n",
        "\n",
        "\n"
      ]
    },
    {
      "cell_type": "markdown",
      "metadata": {
        "id": "9vaTob_u38HW",
        "colab_type": "text"
      },
      "source": [
        "# Tipos de Datos en Python"
      ]
    },
    {
      "cell_type": "markdown",
      "metadata": {
        "id": "BoNZe13k38HY",
        "colab_type": "text"
      },
      "source": [
        "* Lenguajes de tipado estático como C o Java requieren que cada vriable sea declarada explicitamente\n",
        "* Python en un lenguaje de tipado dinámico y no requiere ésta especificación\n",
        "Por ejemplo en C especificamos una operación como sigue:\n",
        "\n",
        "```C\n",
        "/* codigo en C */\n",
        "int result = 0;\n",
        "for(int i=0; i<100; i++){\n",
        "    result += i;\n",
        "}\n",
        "```\n",
        "\n",
        "En Python la operación equivalente puede escribirse de la siguiente forma:\n",
        "\n",
        "```python\n",
        "# codigo en Python\n",
        "result = 0\n",
        "for i in range(100):\n",
        "    result += i\n",
        "```\n",
        "\n",
        "La diferencia principal es \n",
        "* en C el tipo de cada variable debe especificarse explicitamente\n",
        "* en Python el tipo de cada variable es inferido dinamicamente\n",
        "\n",
        "De este modo, en Python podemos asignar cualquier tipo de datos a cualquier variables:\n",
        "\n",
        "```python\n",
        "# codigo Python\n",
        "x = 4\n",
        "x = \"four\"\n",
        "```\n",
        "\n",
        "El equivalente en C sería como sigue, sin embargo, tendría errores de compilación o consecuencias inesperadas:\n",
        "\n",
        "```C\n",
        "/* codigo C */\n",
        "int x = 4;\n",
        "x = \"four\";  // ERROR\n",
        "```\n",
        "\n",
        "* Las variables en Python son más que sólo su valor\n",
        "* Contienen información extra sobre el tipo de valor, es decir el tipo de dato que representan."
      ]
    },
    {
      "cell_type": "markdown",
      "metadata": {
        "id": "39ouzc7238Ha",
        "colab_type": "text"
      },
      "source": [
        "## Enteros en Python\n",
        "\n",
        "* La implementacion standard de Python está escrita en C.\n",
        "* Si  definimos un entero en Python, ``x = 10000``, ``x`` es un apuntador a una estructura de C:\n",
        "\n",
        "```C\n",
        "struct _longobject {\n",
        "    long ob_refcnt;\n",
        "    PyTypeObject *ob_type;\n",
        "    size_t ob_size;\n",
        "    long ob_digit[1];\n",
        "};\n",
        "```\n",
        "\n",
        "- Un entero en Python contiene cuatro partes:\n",
        "\n",
        " - ``ob_refcnt``, un contador que ayuda en la asignación y liberación de memoria\n",
        " - ``ob_type``, codifica el tipo de variable\n",
        " - ``ob_size``, especifica el tamaño\n",
        " - ``ob_digit``, contiene el valor asignado que representa la variable.\n",
        "\n",
        "* Esto causa un pequeño _overhead_ cuando se crea un entero en Python en comparación con C, como se ilustra a continuación:"
      ]
    },
    {
      "cell_type": "markdown",
      "metadata": {
        "id": "0I-x9p2C38Hd",
        "colab_type": "text"
      },
      "source": [
        "![Integer Memory Layout](https://github.com/htapiagroup/manipulacion-de-datos-con-pandas-EisaacJC/blob/master/notebooks/figures/cint_vs_pyint.png?raw=1)"
      ]
    },
    {
      "cell_type": "markdown",
      "metadata": {
        "id": "9JDJGWGC38Hg",
        "colab_type": "text"
      },
      "source": [
        "## Listas en Python \n",
        "\n",
        "Una lista es una estructura de datos que permite colectar objetos. \n",
        "Creamos una lista de enteros de la siguiente forma:"
      ]
    },
    {
      "cell_type": "code",
      "metadata": {
        "id": "1V76mVve38Hi",
        "colab_type": "code",
        "outputId": "efe93824-1870-4751-bc16-475488c8d2f4",
        "colab": {}
      },
      "source": [
        "L = list(range(10))\n",
        "L"
      ],
      "execution_count": 0,
      "outputs": [
        {
          "output_type": "execute_result",
          "data": {
            "text/plain": [
              "[0, 1, 2, 3, 4, 5, 6, 7, 8, 9]"
            ]
          },
          "metadata": {
            "tags": []
          },
          "execution_count": 1
        }
      ]
    },
    {
      "cell_type": "code",
      "metadata": {
        "id": "FTQbi5Hw38Hu",
        "colab_type": "code",
        "outputId": "ad151743-bbf6-4276-e341-c493b3d722e7",
        "colab": {}
      },
      "source": [
        "type(L[0])"
      ],
      "execution_count": 0,
      "outputs": [
        {
          "output_type": "execute_result",
          "data": {
            "text/plain": [
              "int"
            ]
          },
          "metadata": {
            "tags": []
          },
          "execution_count": 2
        }
      ]
    },
    {
      "cell_type": "markdown",
      "metadata": {
        "id": "5vp1CSXF38H3",
        "colab_type": "text"
      },
      "source": [
        "O una lista de caracteres de texto:"
      ]
    },
    {
      "cell_type": "code",
      "metadata": {
        "id": "DyXaPTkw38H6",
        "colab_type": "code",
        "outputId": "2f1940c5-5ea4-4ec9-cf3d-e3638d96aac0",
        "colab": {}
      },
      "source": [
        "L2 = [str(c) for c in L]\n",
        "L2"
      ],
      "execution_count": 0,
      "outputs": [
        {
          "output_type": "execute_result",
          "data": {
            "text/plain": [
              "['0', '1', '2', '3', '4', '5', '6', '7', '8', '9']"
            ]
          },
          "metadata": {
            "tags": []
          },
          "execution_count": 3
        }
      ]
    },
    {
      "cell_type": "code",
      "metadata": {
        "id": "ATm9F9Or38IC",
        "colab_type": "code",
        "outputId": "3edc2e10-cc39-4c4c-8857-1f3d08699c10",
        "colab": {}
      },
      "source": [
        "type(L2[0])"
      ],
      "execution_count": 0,
      "outputs": [
        {
          "output_type": "execute_result",
          "data": {
            "text/plain": [
              "str"
            ]
          },
          "metadata": {
            "tags": []
          },
          "execution_count": 4
        }
      ]
    },
    {
      "cell_type": "markdown",
      "metadata": {
        "id": "YhX-GITs38IK",
        "colab_type": "text"
      },
      "source": [
        "Gracias al tipado dinámico podemos crear listas heterogéneas:"
      ]
    },
    {
      "cell_type": "code",
      "metadata": {
        "id": "5fw_ewBV38IN",
        "colab_type": "code",
        "outputId": "5817386e-5f6b-4808-b863-0b16ffb019d0",
        "colab": {}
      },
      "source": [
        "L3 = [True, \"2\", 3.0, 4]\n",
        "[type(item) for item in L3]"
      ],
      "execution_count": 0,
      "outputs": [
        {
          "output_type": "execute_result",
          "data": {
            "text/plain": [
              "[bool, str, float, int]"
            ]
          },
          "metadata": {
            "tags": []
          },
          "execution_count": 5
        }
      ]
    },
    {
      "cell_type": "markdown",
      "metadata": {
        "id": "KpsdI58h38IW",
        "colab_type": "text"
      },
      "source": [
        "- Esta felixibilidad tiene un costo pues cada elemento en la lista contiene es una referencia a una estructura que define el objeto de Python.\n",
        "- En el caso especial que todas las entradas son del mismo tipo habrá información redundante: - Sería mas eficiente usar un arreglo de tipo fijo\n",
        "- La diferencia entre listas dinámicas y de tipo fijo (como NumPy) se ilustra en la siguiente figura:"
      ]
    },
    {
      "cell_type": "markdown",
      "metadata": {
        "id": "88lj3O-a38IY",
        "colab_type": "text"
      },
      "source": [
        "![Array Memory Layout](https://github.com/htapiagroup/manipulacion-de-datos-con-pandas-EisaacJC/blob/master/notebooks/figures/array_vs_list.png?raw=1)"
      ]
    },
    {
      "cell_type": "markdown",
      "metadata": {
        "id": "TliCvse738Ib",
        "colab_type": "text"
      },
      "source": [
        "- El arreglo contiene un apuntador único a un bloque contiguo de datos\n",
        "- La lista contiene un apuntador a un bloque de apuntadores, cada uno apuntando a un objeto de Python (como el objeto entero que vimos antes)\n",
        "- La lista puede tener objetos y datos de cualquier tipo\n",
        "- El arreglo fijo no puede hacerlo, pero es mas eficiente para guardar y manipular los datos"
      ]
    },
    {
      "cell_type": "markdown",
      "metadata": {
        "id": "w_AOzwtK38Id",
        "colab_type": "text"
      },
      "source": [
        "## Arreglos de Tipo Fijo en Python\n",
        "\n",
        "- En Python hay diferentes opciones para guardar datos en buffers de tipo fijo\n",
        "- El modulo interno ``array`` (disponible a partir de Python 3.3) sirve para crear arreglos densos de tipo uniforme:"
      ]
    },
    {
      "cell_type": "code",
      "metadata": {
        "id": "c8LtE3Qy38Ig",
        "colab_type": "code",
        "outputId": "94d9a73e-818e-4364-cde5-37ec37fdd937",
        "colab": {}
      },
      "source": [
        "import array\n",
        "L = list(range(10))\n",
        "A = array.array('i', L)\n",
        "A"
      ],
      "execution_count": 0,
      "outputs": [
        {
          "output_type": "execute_result",
          "data": {
            "text/plain": [
              "array('i', [0, 1, 2, 3, 4, 5, 6, 7, 8, 9])"
            ]
          },
          "metadata": {
            "tags": []
          },
          "execution_count": 3
        }
      ]
    },
    {
      "cell_type": "markdown",
      "metadata": {
        "id": "vBPi_qLF38Ip",
        "colab_type": "text"
      },
      "source": [
        "- Aquí ``'i'`` indica que las entradas son enteros.\n",
        "- El objeto ``ndarray`` de la libreria NumPy  es mucho mas útil ya que implementa operaciones sobre los datos contenidos.\n",
        "- Antes de explorar estas operaciones, veamos diversas maneras de crear arreglos de NumPy\n",
        "- Comenzamos con la manera standard de importar NumPy, usando el alias ``np``:"
      ]
    },
    {
      "cell_type": "code",
      "metadata": {
        "id": "b2_f3gOR38Is",
        "colab_type": "code",
        "colab": {}
      },
      "source": [
        "import numpy as np"
      ],
      "execution_count": 0,
      "outputs": []
    },
    {
      "cell_type": "markdown",
      "metadata": {
        "id": "YW7XhznV38I0",
        "colab_type": "text"
      },
      "source": [
        "## Crear Arreglos a partir de Listas de Python\n",
        "\n",
        "Podemos usar ``np.array`` para crear arreglos a partir de listas:"
      ]
    },
    {
      "cell_type": "code",
      "metadata": {
        "id": "RX8qbBO838I3",
        "colab_type": "code",
        "outputId": "d8012b61-c48a-4253-8152-d9e0515d8be9",
        "colab": {}
      },
      "source": [
        "# integer array:\n",
        "np.array([1, 4, 2, 5, 3])"
      ],
      "execution_count": 0,
      "outputs": [
        {
          "output_type": "execute_result",
          "data": {
            "text/plain": [
              "array([1, 4, 2, 5, 3])"
            ]
          },
          "metadata": {
            "tags": []
          },
          "execution_count": 8
        }
      ]
    },
    {
      "cell_type": "markdown",
      "metadata": {
        "id": "0v51TrQ838I_",
        "colab_type": "text"
      },
      "source": [
        "- A diferencia de las lista en Python, NumPy está restringif a arreglos que contienen el mismo tipo de datos\n",
        "- Si los tipos no coinciden NumPy trata de ajustar (*upcast*, emitir) si es posible\n",
        "- En el siguiente ejemplo, los enteros se emiten a punto flotante:"
      ]
    },
    {
      "cell_type": "code",
      "metadata": {
        "id": "z8b-1od238JC",
        "colab_type": "code",
        "outputId": "1d07eb71-9d83-4079-e3b7-ab5160dc643c",
        "colab": {}
      },
      "source": [
        "np.array([3.14, 4, 2, 3])"
      ],
      "execution_count": 0,
      "outputs": [
        {
          "output_type": "execute_result",
          "data": {
            "text/plain": [
              "array([ 3.14,  4.  ,  2.  ,  3.  ])"
            ]
          },
          "metadata": {
            "tags": []
          },
          "execution_count": 9
        }
      ]
    },
    {
      "cell_type": "markdown",
      "metadata": {
        "id": "02b4HjVs38JL",
        "colab_type": "text"
      },
      "source": [
        "- Podemos indicar el tipo de datos del arreglo explicitamente usando la palabra ``dtype``:"
      ]
    },
    {
      "cell_type": "code",
      "metadata": {
        "id": "57Nn0muN38JN",
        "colab_type": "code",
        "outputId": "f01b0174-cbe3-4689-9b1c-e151849b425d",
        "colab": {}
      },
      "source": [
        "np.array([1, 2, 3, 4], dtype='float32')"
      ],
      "execution_count": 0,
      "outputs": [
        {
          "output_type": "execute_result",
          "data": {
            "text/plain": [
              "array([ 1.,  2.,  3.,  4.], dtype=float32)"
            ]
          },
          "metadata": {
            "tags": []
          },
          "execution_count": 10
        }
      ]
    },
    {
      "cell_type": "markdown",
      "metadata": {
        "id": "hU6khf8h38JV",
        "colab_type": "text"
      },
      "source": [
        "- A diferencia de las listas, los arreglos de NumPy pueden ser explicitamente multi-dimensionales\n",
        "- A continuación, una forma de inicializar un arreglo multidimensional usando una lista de listas:"
      ]
    },
    {
      "cell_type": "code",
      "metadata": {
        "id": "qJ8xw2oN38JY",
        "colab_type": "code",
        "outputId": "a5c4227b-82e5-4f7b-b666-d7e0c23834ef",
        "colab": {}
      },
      "source": [
        "# nested lists result in multi-dimensional arrays\n",
        "np.array([range(i, i + 3) for i in [2, 4, 6]])"
      ],
      "execution_count": 0,
      "outputs": [
        {
          "output_type": "execute_result",
          "data": {
            "text/plain": [
              "array([[2, 3, 4],\n",
              "       [4, 5, 6],\n",
              "       [6, 7, 8]])"
            ]
          },
          "metadata": {
            "tags": []
          },
          "execution_count": 11
        }
      ]
    },
    {
      "cell_type": "markdown",
      "metadata": {
        "id": "DWAutjks38Jg",
        "colab_type": "text"
      },
      "source": [
        "- Las listas interiores se toman como renglones del arreglo bidimensional resultante"
      ]
    },
    {
      "cell_type": "markdown",
      "metadata": {
        "id": "FYP8pnmN38Jj",
        "colab_type": "text"
      },
      "source": [
        "## Creando Arreglos \n",
        "\n",
        "- Para arreglos grandes, es mas eficiente crearlos usando rutinas implementadas en NumPy:"
      ]
    },
    {
      "cell_type": "code",
      "metadata": {
        "id": "aSXI0Gvv38Jm",
        "colab_type": "code",
        "outputId": "b552b9c4-3266-412a-f251-7c2d072b7b02",
        "colab": {}
      },
      "source": [
        "# Crea arreglo de enteros de longitud-10 lleno de ceros\n",
        "np.zeros(10, dtype=int)"
      ],
      "execution_count": 0,
      "outputs": [
        {
          "output_type": "execute_result",
          "data": {
            "text/plain": [
              "array([0, 0, 0, 0, 0, 0, 0, 0, 0, 0])"
            ]
          },
          "metadata": {
            "tags": []
          },
          "execution_count": 12
        }
      ]
    },
    {
      "cell_type": "code",
      "metadata": {
        "id": "kbDfuBEX38Jv",
        "colab_type": "code",
        "outputId": "c5ab9e03-0120-4dbc-8d96-aa5615445490",
        "colab": {}
      },
      "source": [
        "# Crea arreglo con puntos flotantes de dimensiones 3x5 (3 renglones, 5 columnas) lleno de unos\n",
        "np.ones((3, 5), dtype=float)"
      ],
      "execution_count": 0,
      "outputs": [
        {
          "output_type": "execute_result",
          "data": {
            "text/plain": [
              "array([[ 1.,  1.,  1.,  1.,  1.],\n",
              "       [ 1.,  1.,  1.,  1.,  1.],\n",
              "       [ 1.,  1.,  1.,  1.,  1.]])"
            ]
          },
          "metadata": {
            "tags": []
          },
          "execution_count": 13
        }
      ]
    },
    {
      "cell_type": "code",
      "metadata": {
        "id": "gTgTfyco38J4",
        "colab_type": "code",
        "outputId": "7c21ff22-6e53-42c7-f23f-643eda9ff880",
        "colab": {}
      },
      "source": [
        "# Crea arreglo de 3x5 array lleno de 3.14\n",
        "np.full((3, 5), 3.14)"
      ],
      "execution_count": 0,
      "outputs": [
        {
          "output_type": "execute_result",
          "data": {
            "text/plain": [
              "array([[ 3.14,  3.14,  3.14,  3.14,  3.14],\n",
              "       [ 3.14,  3.14,  3.14,  3.14,  3.14],\n",
              "       [ 3.14,  3.14,  3.14,  3.14,  3.14]])"
            ]
          },
          "metadata": {
            "tags": []
          },
          "execution_count": 14
        }
      ]
    },
    {
      "cell_type": "code",
      "metadata": {
        "id": "m0p9IrHO38KA",
        "colab_type": "code",
        "outputId": "80ac8a9c-583f-44c2-8276-6af60eb7701c",
        "colab": {}
      },
      "source": [
        "# Crea arreglo lleno con una secuencia lineal de numeros\n",
        "# Empieza en 0, acaba en 20, en pasos de 2\n",
        "# (similar a la funcion interna range())\n",
        "np.arange(0, 20, 2)"
      ],
      "execution_count": 0,
      "outputs": [
        {
          "output_type": "execute_result",
          "data": {
            "text/plain": [
              "array([ 0,  2,  4,  6,  8, 10, 12, 14, 16, 18])"
            ]
          },
          "metadata": {
            "tags": []
          },
          "execution_count": 15
        }
      ]
    },
    {
      "cell_type": "code",
      "metadata": {
        "id": "388QeTTv38KO",
        "colab_type": "code",
        "outputId": "132290a0-f146-4caf-a632-25f159670792",
        "colab": {}
      },
      "source": [
        "# Crea array de cinco valores igualmente espaciados entre 0 y 1\n",
        "np.linspace(0, 1, 5)"
      ],
      "execution_count": 0,
      "outputs": [
        {
          "output_type": "execute_result",
          "data": {
            "text/plain": [
              "array([ 0.  ,  0.25,  0.5 ,  0.75,  1.  ])"
            ]
          },
          "metadata": {
            "tags": []
          },
          "execution_count": 16
        }
      ]
    },
    {
      "cell_type": "code",
      "metadata": {
        "id": "_2zAoUWf38Kb",
        "colab_type": "code",
        "outputId": "fb84fa28-dd9f-4e46-887c-57c731ab110d",
        "colab": {}
      },
      "source": [
        "# Crea un arreglo de 3x3 con valores aleatorios\n",
        "# distribuidos de manera uniforma entre 0 y 1\n",
        "np.random.random((3, 3))"
      ],
      "execution_count": 0,
      "outputs": [
        {
          "output_type": "execute_result",
          "data": {
            "text/plain": [
              "array([[ 0.99844933,  0.52183819,  0.22421193],\n",
              "       [ 0.08007488,  0.45429293,  0.20941444],\n",
              "       [ 0.14360941,  0.96910973,  0.946117  ]])"
            ]
          },
          "metadata": {
            "tags": []
          },
          "execution_count": 17
        }
      ]
    },
    {
      "cell_type": "code",
      "metadata": {
        "id": "Ld9F7_tA38Kk",
        "colab_type": "code",
        "outputId": "a74eda3d-c568-4e72-e590-eb6a901497ce",
        "colab": {}
      },
      "source": [
        "# Crea un arreglo de 3x3 con valores aleatorios\n",
        "# distribuidos de manera normal con media 0 y desviacion estandard 1\n",
        "np.random.normal(0, 1, (3, 3))"
      ],
      "execution_count": 0,
      "outputs": [
        {
          "output_type": "execute_result",
          "data": {
            "text/plain": [
              "array([[ 1.51772646,  0.39614948, -0.10634696],\n",
              "       [ 0.25671348,  0.00732722,  0.37783601],\n",
              "       [ 0.68446945,  0.15926039, -0.70744073]])"
            ]
          },
          "metadata": {
            "tags": []
          },
          "execution_count": 18
        }
      ]
    },
    {
      "cell_type": "code",
      "metadata": {
        "id": "78ANWI9q38Kt",
        "colab_type": "code",
        "outputId": "7083bfc9-3df7-447e-9e07-3b64fa4414bb",
        "colab": {}
      },
      "source": [
        "# Crea array de 3x3 de numeros enterros aleatorios tomados del intervalo [0, 10)\n",
        "np.random.randint(0, 10, (3, 3))"
      ],
      "execution_count": 0,
      "outputs": [
        {
          "output_type": "execute_result",
          "data": {
            "text/plain": [
              "array([[2, 3, 4],\n",
              "       [5, 7, 8],\n",
              "       [0, 5, 0]])"
            ]
          },
          "metadata": {
            "tags": []
          },
          "execution_count": 19
        }
      ]
    },
    {
      "cell_type": "code",
      "metadata": {
        "id": "dSWgu4rN38K2",
        "colab_type": "code",
        "outputId": "0c414c09-1ed7-422a-b744-9d8149811111",
        "colab": {}
      },
      "source": [
        "# Crea matrix identidad de 3x3 (arreglo cuyas entradas son todas cero excepto las diagonales)\n",
        "np.eye(3)"
      ],
      "execution_count": 0,
      "outputs": [
        {
          "output_type": "execute_result",
          "data": {
            "text/plain": [
              "array([[ 1.,  0.,  0.],\n",
              "       [ 0.,  1.,  0.],\n",
              "       [ 0.,  0.,  1.]])"
            ]
          },
          "metadata": {
            "tags": []
          },
          "execution_count": 20
        }
      ]
    },
    {
      "cell_type": "code",
      "metadata": {
        "id": "FaKAVM_l38K_",
        "colab_type": "code",
        "outputId": "b9fe4a49-f08d-4248-a5a7-7162b58432e6",
        "colab": {}
      },
      "source": [
        "# Crea un array de tres enteros sin valores especificos\n",
        "# Los valores se toman de lo que exista en esa localizacion de la memoria\n",
        "np.empty(3)"
      ],
      "execution_count": 0,
      "outputs": [
        {
          "output_type": "execute_result",
          "data": {
            "text/plain": [
              "array([ 1.,  1.,  1.])"
            ]
          },
          "metadata": {
            "tags": []
          },
          "execution_count": 21
        }
      ]
    },
    {
      "cell_type": "markdown",
      "metadata": {
        "id": "5zY1YOVk38LI",
        "colab_type": "text"
      },
      "source": [
        "## Tipos de Datos Standard de NumPy \n",
        "\n",
        "- Los arrays de NumPy contienen valores de un solo tipo, veamos cuales pueden ser\n",
        "- NumPy está implementado en C, de modo que los tipos son similares a los usados en C, Fortran, y otros lenguajes relacionados\n",
        "- La siguiente tabla enlista los tipos de datos standard de NumPy \n",
        "- Cuando construyen un array se puede especificar el tipo usando texto:\n",
        "\n",
        "```python\n",
        "np.zeros(10, dtype='int16')\n",
        "```\n",
        "\n",
        "- O usando el objeto de NumPy asociado:\n",
        "\n",
        "```python\n",
        "np.zeros(10, dtype=np.int16)\n",
        "```"
      ]
    },
    {
      "cell_type": "markdown",
      "metadata": {
        "id": "DuGIKKqO38LK",
        "colab_type": "text"
      },
      "source": [
        "| Data type\t    | Description |\n",
        "|---------------|-------------|\n",
        "| ``bool_``     | Boolean (True or False) stored as a byte |\n",
        "| ``int_``      | Default integer type (same as C ``long``; normally either ``int64`` or ``int32``)| \n",
        "| ``intc``      | Identical to C ``int`` (normally ``int32`` or ``int64``)| \n",
        "| ``intp``      | Integer used for indexing (same as C ``ssize_t``; normally either ``int32`` or ``int64``)| \n",
        "| ``int8``      | Byte (-128 to 127)| \n",
        "| ``int16``     | Integer (-32768 to 32767)|\n",
        "| ``int32``     | Integer (-2147483648 to 2147483647)|\n",
        "| ``int64``     | Integer (-9223372036854775808 to 9223372036854775807)| \n",
        "| ``uint8``     | Unsigned integer (0 to 255)| \n",
        "| ``uint16``    | Unsigned integer (0 to 65535)| \n",
        "| ``uint32``    | Unsigned integer (0 to 4294967295)| \n",
        "| ``uint64``    | Unsigned integer (0 to 18446744073709551615)| \n",
        "| ``float_``    | Shorthand for ``float64``.| \n",
        "| ``float16``   | Half precision float: sign bit, 5 bits exponent, 10 bits mantissa| \n",
        "| ``float32``   | Single precision float: sign bit, 8 bits exponent, 23 bits mantissa| \n",
        "| ``float64``   | Double precision float: sign bit, 11 bits exponent, 52 bits mantissa| \n",
        "| ``complex_``  | Shorthand for ``complex128``.| \n",
        "| ``complex64`` | Complex number, represented by two 32-bit floats| \n",
        "| ``complex128``| Complex number, represented by two 64-bit floats| "
      ]
    },
    {
      "cell_type": "markdown",
      "metadata": {
        "id": "BczfmJjv38LR",
        "colab_type": "text"
      },
      "source": [
        "- Existen tipos mas avanzados; para mas información se refiere a la [documentacion de NumPy](http://numpy.org/)."
      ]
    },
    {
      "cell_type": "markdown",
      "metadata": {
        "id": "HdaBsqDC38LT",
        "colab_type": "text"
      },
      "source": [
        "<!--NAVIGATION-->\n",
        "< [Introducción a NumPy](01.00-Introduction-to-NumPy.ipynb) | [Contenido](Index.ipynb) | [Basicos de NumPy: arreglos](01.02-The-Basics-Of-NumPy-Arrays.ipynb) >\n",
        "\n",
        "\n"
      ]
    },
    {
      "cell_type": "code",
      "metadata": {
        "id": "CODPcRl4Z1Ns",
        "colab_type": "code",
        "colab": {}
      },
      "source": [
        ""
      ],
      "execution_count": 0,
      "outputs": []
    }
  ]
}