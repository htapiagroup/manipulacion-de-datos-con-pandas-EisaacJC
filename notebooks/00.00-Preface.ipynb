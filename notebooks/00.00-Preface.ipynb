{
  "nbformat": 4,
  "nbformat_minor": 0,
  "metadata": {
    "anaconda-cloud": {},
    "kernelspec": {
      "display_name": "Python 3",
      "language": "python",
      "name": "python2"
    },
    "language_info": {
      "codemirror_mode": {
        "name": "ipython",
        "version": 2
      },
      "file_extension": ".py",
      "mimetype": "text/x-python",
      "name": "python",
      "nbconvert_exporter": "python",
      "pygments_lexer": "ipython2",
      "version": "2.7.15"
    },
    "colab": {
      "name": "00.00-Preface.ipynb",
      "provenance": []
    }
  },
  "cells": [
    {
      "cell_type": "markdown",
      "metadata": {
        "id": "MHz5nN9gz16k",
        "colab_type": "text"
      },
      "source": [
        "<!--BOOK_INFORMATION-->\n",
        "<img align=\"left\" style=\"padding-right:10px;\" src=\"https://www.uv.mx/ffia/files/2012/09/playerLogo2.jpg\">\n",
        "\n",
        "*Esta libreta contiene material del Taller de Python que se lleva a cabo como parte dela EE Introducción a la ciencia de Datos en la Facultad de Física UV\n",
        "por HTM y GED a partir del libro [Python Data Science Handbook](http://shop.oreilly.com/product/0636920034919.do) \n",
        "de Jake VanderPlas y se mantiene la licencia sobre el texto, \n",
        "[CC-BY-NC-ND license](https://creativecommons.org/licenses/by-nc-nd/3.0/us/legalcode), \n",
        "y sobre el codigo [MIT license](https://opensource.org/licenses/MIT).*"
      ]
    },
    {
      "cell_type": "markdown",
      "metadata": {
        "id": "ocJ46oCoz17W",
        "colab_type": "text"
      },
      "source": [
        "<!--NAVIGATION-->\n",
        "| [Contenido](Index.ipynb) | [Introducción a NumPy](01.00-Introduction-to-NumPy.ipynb) >\n",
        "\n",
        "<a href=\"https://colab.research.google.com/github/htapia/TallerPythonIntroCienciaDatos/blob/master/notebooks/00.00-Preface.ipynb\"><img align=\"left\" src=\"https://colab.research.google.com/assets/colab-badge.svg\" alt=\"Open in Colab\" title=\"Open and Execute in Google Colaboratory\"></a>\n"
      ]
    },
    {
      "cell_type": "markdown",
      "metadata": {
        "id": "RfuHqtJHz17k",
        "colab_type": "text"
      },
      "source": [
        "# Prefacio"
      ]
    },
    {
      "cell_type": "markdown",
      "metadata": {
        "id": "aPXfYrHwz17p",
        "colab_type": "text"
      },
      "source": [
        "\n",
        "Estas libretas son una adaptación del texto\n",
        "\n",
        "> *The Python Data Science Handbook* by Jake VanderPlas (O’Reilly). Copyright 2016 Jake VanderPlas, 978-1-491-91205-8.\n",
        "\n"
      ]
    },
    {
      "cell_type": "markdown",
      "metadata": {
        "id": "favA7NfNz170",
        "colab_type": "text"
      },
      "source": [
        "## Descripcion del Taller\n",
        "\n",
        "El Taller se divide en tres secciones y cubren una introduccion a las herramientas fundamentales de Python para la Ciencia de Datos:\n",
        "\n",
        "1. NumPy: la libreria numérica de Python que permite crear, guardar y operar arreglos de datos de forma efectiva.\n",
        "2. Pandas: librearia que ofrece el ``DataFrame`` para la manipulacion eficiente de datos etiquetados y en formato de columna.\n",
        "3. Scikit-Learn: algoritmos de aprendizaje de maquina eficientes."
      ]
    },
    {
      "cell_type": "markdown",
      "metadata": {
        "id": "ZNTW96wRz18C",
        "colab_type": "text"
      },
      "source": [
        "## Consideraciones de software\n",
        "\n",
        "Instalar Python y las librerias necesarias para este Taller es sencillo y la recomendación es usar la distribución de [Anaconda](https://www.continuum.io/downloads)  si quieren tener acceso al ecosistema en sus máquinas locales. Sin embargo nosotros estaremos usando la infraestructura ofrecida por [Colab Google](https://colab.research.google.com) en la nube, lo cual nos ahorrara tiempo en la instalacion y configuracion, permitiendonos inmediatamente comenzar a trabajar hacia los objetivos que queremos alcanzar."
      ]
    },
    {
      "cell_type": "markdown",
      "metadata": {
        "id": "VDwtrVejz18F",
        "colab_type": "text"
      },
      "source": [
        "<!--NAVIGATION-->\n",
        "| [Contenido](Index.ipynb) | [Introducción a NumPy](01.00-Introduction-to-NumPy.ipynb) >\n",
        "\n",
        "<a href=\"https://colab.research.google.com/github/htapia/TallerPythonIntroCienciaDatos/blob/master/notebooks/00.00-Preface.ipynb\"><img align=\"left\" src=\"https://colab.research.google.com/assets/colab-badge.svg\" alt=\"Open in Colab\" title=\"Open and Execute in Google Colaboratory\"></a>\n"
      ]
    }
  ]
}