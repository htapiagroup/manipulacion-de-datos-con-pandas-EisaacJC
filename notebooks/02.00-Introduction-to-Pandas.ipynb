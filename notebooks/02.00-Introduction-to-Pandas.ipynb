{
  "nbformat": 4,
  "nbformat_minor": 0,
  "metadata": {
    "anaconda-cloud": {},
    "kernelspec": {
      "display_name": "Python 3",
      "language": "python",
      "name": "python3"
    },
    "language_info": {
      "codemirror_mode": {
        "name": "ipython",
        "version": 3
      },
      "file_extension": ".py",
      "mimetype": "text/x-python",
      "name": "python",
      "nbconvert_exporter": "python",
      "pygments_lexer": "ipython3",
      "version": "3.7.1"
    },
    "colab": {
      "name": "02.00-Introduction-to-Pandas.ipynb",
      "provenance": [],
      "include_colab_link": true
    }
  },
  "cells": [
    {
      "cell_type": "markdown",
      "metadata": {
        "id": "view-in-github",
        "colab_type": "text"
      },
      "source": [
        "<a href=\"https://colab.research.google.com/github/htapiagroup/manipulacion-de-datos-con-pandas-EisaacJC/blob/master/notebooks/02.00-Introduction-to-Pandas.ipynb\" target=\"_parent\"><img src=\"https://colab.research.google.com/assets/colab-badge.svg\" alt=\"Open In Colab\"/></a>"
      ]
    },
    {
      "cell_type": "markdown",
      "metadata": {
        "id": "heDft3uUkom9",
        "colab_type": "text"
      },
      "source": [
        "\n",
        "<img align=\"left\" style=\"padding-right:10px;\" src=\"https://www.uv.mx/ffia/files/2012/09/playerLogo2.jpg\">\n",
        "\n",
        "El contenido ha sido adaptado para el curso de Introducción a la ciencia de Datos en la Facultad de Física de la Universidad Veracruzana,\n",
        "por HTM y GED a partir del libro [Python Data Science Handbook](http://shop.oreilly.com/product/0636920034919.do) \n",
        "de Jake VanderPlas y se mantiene la licencia sobre el texto, \n",
        "[CC-BY-NC-ND license](https://creativecommons.org/licenses/by-nc-nd/3.0/us/legalcode), \n",
        "y sobre el codigo [MIT license](https://opensource.org/licenses/MIT).*"
      ]
    },
    {
      "cell_type": "markdown",
      "metadata": {
        "id": "WrBqogMtkonE",
        "colab_type": "text"
      },
      "source": [
        "<!--NAVIGATION-->\n",
        "< [Datos estructurados en NumPy](01.09-Structured-Data-NumPy.ipynb) | [Contenido](Index.ipynb) | [Introducción a los objetos de Pandas](02.01-Introducing-Pandas-Objects.ipynb) >\n",
        "\n",
        "\n"
      ]
    },
    {
      "cell_type": "markdown",
      "metadata": {
        "id": "WaTrvQvQkonH",
        "colab_type": "text"
      },
      "source": [
        "# Manipulación de datos con Pandas"
      ]
    },
    {
      "cell_type": "markdown",
      "metadata": {
        "id": "AR0OVpLDkonK",
        "colab_type": "text"
      },
      "source": [
        "En la primera parte vimos con cierto detalle el uso del objeto ``ndarray`` de la libreria NumPy, que proporciona un mecanismo eficiente para guardar y manipular arreglos de números. Sobre ese andamio, la librería Pandas, construida sobre NumPy, proporciona una implementación eficiente del objeto ``DataFrame``, que es esencialmente una representación multidimensional de arreglos acompañado por etiquetas de renglones y columnas, permitiendo guardar y manipular de forma eficiente datos etiquetados y/o estructurados. Además, Pandas implementa operaciones sobre los datos que son familiares para usuarios de bases de datos y hojas de cálculo.\n",
        "\n",
        "Pandas proporciona los objetos ``Series`` y ``DataFrame`` tomando como base arrays de NumPy con acceso eficiente a varias de las tareas que deben realizarse como científico de datos. En esta parte del Taller nos vamos a enfocar en la mecánica de usar estos objetos y estructuras relacionadas usando ejemplos de datos reales."
      ]
    },
    {
      "cell_type": "markdown",
      "metadata": {
        "id": "FinC_-R6konN",
        "colab_type": "text"
      },
      "source": [
        "## Instalando y usando Pandas\n",
        "\n",
        "En la infraestructura que estamos usando, [Colab Google](https://colab.research.google.com), Pandas está instalado y no requieren hacer nada. En caso de quere hacerlo en su entorno local con Anaconda, también debe haberse instalado ya. Encontrarán más detalles de la instalación en la [documentación de Pandas](http://pandas.pydata.org/).\n",
        "Para importarlo y checar que versión tienen usasmo:"
      ]
    },
    {
      "cell_type": "code",
      "metadata": {
        "id": "7bxVGl1vkonQ",
        "colab_type": "code",
        "colab": {},
        "outputId": "3324beec-2e49-416f-cc17-360161f0615a"
      },
      "source": [
        "import pandas\n",
        "pandas.__version__"
      ],
      "execution_count": 0,
      "outputs": [
        {
          "output_type": "execute_result",
          "data": {
            "text/plain": [
              "'0.25.1'"
            ]
          },
          "metadata": {
            "tags": []
          },
          "execution_count": 1
        }
      ]
    },
    {
      "cell_type": "markdown",
      "metadata": {
        "id": "URtOeJ6Dkona",
        "colab_type": "text"
      },
      "source": [
        "Así como generalmente se importa NumPy usando el alias ``np``, usaremos el alias ``pd`` cuando importemos Pandas:"
      ]
    },
    {
      "cell_type": "code",
      "metadata": {
        "id": "dAifTCswkonc",
        "colab_type": "code",
        "colab": {}
      },
      "source": [
        "import pandas as pd"
      ],
      "execution_count": 0,
      "outputs": []
    },
    {
      "cell_type": "markdown",
      "metadata": {
        "id": "8Nj5oJTLkoni",
        "colab_type": "text"
      },
      "source": [
        "Usaremos esta convención para importar Pandas a lo largo de este Taller."
      ]
    },
    {
      "cell_type": "markdown",
      "metadata": {
        "id": "Re7dYYT2konk",
        "colab_type": "text"
      },
      "source": [
        "## Acerca de la Documentación\n",
        "\n",
        "IPyhton, a través de las libretas de Jupyter, proporciona un acceso rápido para explorar los contenidos de un paquete, usando la tecla ``tab``, asi como a la documentación de las funciones, usando el caracter ``?`` al final del nombre.\n",
        "\n",
        "<!--As you read through this chapter, don't forget that IPython gives you the ability to quickly explore the contents of a package (by using the tab-completion feature), as well as the documentation of various functions (using the ``?`` character – Refer back to [Help and Documentation in IPython](01.01-Help-And-Documentation.ipynb)).-->\n",
        "\n",
        "Por ejemplo, para ver los contenidos del espacio de pandas, pueden escribir lo siguiente\n",
        "\n",
        "```ipython\n",
        "In [3]: pd.<TAB>\n",
        "```\n",
        "\n",
        "Para desplegar la documentación de Pandas pueden usar:\n",
        "\n",
        "```ipython\n",
        "In [4]: pd?\n",
        "```\n",
        "\n",
        "Todos los detalles, tutoriales y mucho más recursos pueden consultarse en http://pandas.pydata.org/."
      ]
    },
    {
      "cell_type": "markdown",
      "metadata": {
        "id": "xxYSpkhEkonm",
        "colab_type": "text"
      },
      "source": [
        "<!--NAVIGATION-->\n",
        "< [Datos estructurados en NumPy](01.09-Structured-Data-NumPy.ipynb) | [Contenido](Index.ipynb) | [Introducción a los objetos de Pandas](02.01-Introducing-Pandas-Objects.ipynb) >\n",
        "\n",
        "\n"
      ]
    },
    {
      "cell_type": "code",
      "metadata": {
        "id": "TmeQH6o2kvLa",
        "colab_type": "code",
        "colab": {}
      },
      "source": [
        ""
      ],
      "execution_count": 0,
      "outputs": []
    }
  ]
}