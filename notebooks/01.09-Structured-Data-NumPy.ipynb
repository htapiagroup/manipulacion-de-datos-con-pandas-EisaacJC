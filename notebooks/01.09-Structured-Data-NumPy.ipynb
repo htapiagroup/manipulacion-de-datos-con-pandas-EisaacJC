{
  "nbformat": 4,
  "nbformat_minor": 0,
  "metadata": {
    "anaconda-cloud": {},
    "kernelspec": {
      "display_name": "Python 2",
      "language": "python",
      "name": "python2"
    },
    "language_info": {
      "codemirror_mode": {
        "name": "ipython",
        "version": 2
      },
      "file_extension": ".py",
      "mimetype": "text/x-python",
      "name": "python",
      "nbconvert_exporter": "python",
      "pygments_lexer": "ipython2",
      "version": "2.7.15"
    },
    "colab": {
      "name": "01.09-Structured-Data-NumPy.ipynb",
      "provenance": [],
      "include_colab_link": true
    }
  },
  "cells": [
    {
      "cell_type": "markdown",
      "metadata": {
        "id": "view-in-github",
        "colab_type": "text"
      },
      "source": [
        "<a href=\"https://colab.research.google.com/github/htapiagroup/manipulacion-de-datos-con-pandas-EisaacJC/blob/master/notebooks/01.09-Structured-Data-NumPy.ipynb\" target=\"_parent\"><img src=\"https://colab.research.google.com/assets/colab-badge.svg\" alt=\"Open In Colab\"/></a>"
      ]
    },
    {
      "cell_type": "markdown",
      "metadata": {
        "id": "5_0O0cRKZPv4",
        "colab_type": "text"
      },
      "source": [
        "\n",
        "<img align=\"left\" style=\"padding-right:10px;\" src=\"https://www.uv.mx/ffia/files/2012/09/playerLogo2.jpg\">\n",
        "\n",
        "El contenido ha sido adaptado para el curso de Introducción a la ciencia de Datos,\n",
        "por HTM y GED a partir del libro [Python Data Science Handbook](http://shop.oreilly.com/product/0636920034919.do) \n",
        "de Jake VanderPlas y se mantiene la licencia sobre el texto, \n",
        "[CC-BY-NC-ND license](https://creativecommons.org/licenses/by-nc-nd/3.0/us/legalcode), \n",
        "y sobre el codigo [MIT license](https://opensource.org/licenses/MIT).*"
      ]
    },
    {
      "cell_type": "markdown",
      "metadata": {
        "id": "YRb9c9HoZPv8",
        "colab_type": "text"
      },
      "source": [
        "<!--NAVIGATION-->\n",
        "< [Ordenando elementos de un arreglo](01.08-Sorting.ipynb) | [Contenido](Index.ipynb) | [Manipulación de datos con Pandas](02.00-Introduction-to-Pandas.ipynb) >\n",
        "\n"
      ]
    },
    {
      "cell_type": "markdown",
      "metadata": {
        "id": "ftaKy3MeZPv-",
        "colab_type": "text"
      },
      "source": [
        "# Datos estructurados en NumPy"
      ]
    },
    {
      "cell_type": "code",
      "metadata": {
        "id": "IweJ-GMvZPwD",
        "colab_type": "code",
        "colab": {}
      },
      "source": [
        "import numpy as np"
      ],
      "execution_count": 0,
      "outputs": []
    },
    {
      "cell_type": "code",
      "metadata": {
        "id": "txReuOISZPwM",
        "colab_type": "code",
        "colab": {}
      },
      "source": [
        "name = ['Alice', 'Bob', 'Cathy', 'Doug']\n",
        "age = [25, 45, 37, 19]\n",
        "weight = [55.0, 85.5, 68.0, 61.5]"
      ],
      "execution_count": 0,
      "outputs": []
    },
    {
      "cell_type": "code",
      "metadata": {
        "id": "ErdW8ISsZPwT",
        "colab_type": "code",
        "colab": {}
      },
      "source": [
        "x = np.zeros(4, dtype=int)"
      ],
      "execution_count": 0,
      "outputs": []
    },
    {
      "cell_type": "code",
      "metadata": {
        "id": "e4ILDXZPZPwb",
        "colab_type": "code",
        "colab": {
          "base_uri": "https://localhost:8080/",
          "height": 34
        },
        "outputId": "c3b3c454-b4d4-4d27-a91c-abb03dc557f2"
      },
      "source": [
        "# Use a compound data type for structured arrays\n",
        "data = np.zeros(4, dtype={'names':('name', 'age', 'weight'),\n",
        "                          'formats':('U10', 'i4', 'f8')})\n",
        "print(data.dtype)"
      ],
      "execution_count": 4,
      "outputs": [
        {
          "output_type": "stream",
          "text": [
            "[('name', '<U10'), ('age', '<i4'), ('weight', '<f8')]\n"
          ],
          "name": "stdout"
        }
      ]
    },
    {
      "cell_type": "code",
      "metadata": {
        "id": "EfhlO4MhZPwl",
        "colab_type": "code",
        "colab": {
          "base_uri": "https://localhost:8080/",
          "height": 50
        },
        "outputId": "d2889460-8b5c-4150-ff8b-517f868a80f1"
      },
      "source": [
        "data['name'] = name\n",
        "data['age'] = age\n",
        "data['weight'] = weight\n",
        "print(data)"
      ],
      "execution_count": 5,
      "outputs": [
        {
          "output_type": "stream",
          "text": [
            "[(u'Alice', 25, 55. ) (u'Bob', 45, 85.5) (u'Cathy', 37, 68. )\n",
            " (u'Doug', 19, 61.5)]\n"
          ],
          "name": "stdout"
        }
      ]
    },
    {
      "cell_type": "code",
      "metadata": {
        "id": "VrPpTXSzZPww",
        "colab_type": "code",
        "colab": {
          "base_uri": "https://localhost:8080/",
          "height": 34
        },
        "outputId": "67e5c40d-f736-4109-85af-6fd437de36b2"
      },
      "source": [
        "# Get all names\n",
        "data['name']"
      ],
      "execution_count": 6,
      "outputs": [
        {
          "output_type": "execute_result",
          "data": {
            "text/plain": [
              "array([u'Alice', u'Bob', u'Cathy', u'Doug'], dtype='<U10')"
            ]
          },
          "metadata": {
            "tags": []
          },
          "execution_count": 6
        }
      ]
    },
    {
      "cell_type": "code",
      "metadata": {
        "id": "uiNab2qwZPw-",
        "colab_type": "code",
        "colab": {
          "base_uri": "https://localhost:8080/",
          "height": 34
        },
        "outputId": "3abc0cc9-4a98-465e-b3ce-8c396ff90adb"
      },
      "source": [
        "# Get first row of data\n",
        "data[0]"
      ],
      "execution_count": 7,
      "outputs": [
        {
          "output_type": "execute_result",
          "data": {
            "text/plain": [
              "(u'Alice', 25, 55.)"
            ]
          },
          "metadata": {
            "tags": []
          },
          "execution_count": 7
        }
      ]
    },
    {
      "cell_type": "code",
      "metadata": {
        "id": "PNkcvlcNZPxY",
        "colab_type": "code",
        "colab": {
          "base_uri": "https://localhost:8080/",
          "height": 34
        },
        "outputId": "f870f34e-93c3-4920-a676-0c6cc2bdd480"
      },
      "source": [
        "# Get the name from the last row\n",
        "data[-1]['name']"
      ],
      "execution_count": 8,
      "outputs": [
        {
          "output_type": "execute_result",
          "data": {
            "text/plain": [
              "u'Doug'"
            ]
          },
          "metadata": {
            "tags": []
          },
          "execution_count": 8
        }
      ]
    },
    {
      "cell_type": "code",
      "metadata": {
        "id": "1MwivoVJZPxo",
        "colab_type": "code",
        "colab": {
          "base_uri": "https://localhost:8080/",
          "height": 34
        },
        "outputId": "e7b944b7-afd5-45f5-e332-9df36bc57a70"
      },
      "source": [
        "# Get names where age is under 30\n",
        "data[data['age'] < 30]['name']"
      ],
      "execution_count": 9,
      "outputs": [
        {
          "output_type": "execute_result",
          "data": {
            "text/plain": [
              "array([u'Alice', u'Doug'], dtype='<U10')"
            ]
          },
          "metadata": {
            "tags": []
          },
          "execution_count": 9
        }
      ]
    },
    {
      "cell_type": "markdown",
      "metadata": {
        "id": "vHJl2LqLZPx4",
        "colab_type": "text"
      },
      "source": [
        "## Creando Arrays Estructurados"
      ]
    },
    {
      "cell_type": "code",
      "metadata": {
        "id": "gt9SeSFWZPyE",
        "colab_type": "code",
        "colab": {
          "base_uri": "https://localhost:8080/",
          "height": 34
        },
        "outputId": "b38b7062-f3f8-4a31-f5a0-228a4b4a2a91"
      },
      "source": [
        "np.dtype({'names':('name', 'age', 'weight'),\n",
        "          'formats':('U10', 'i4', 'f8')})"
      ],
      "execution_count": 10,
      "outputs": [
        {
          "output_type": "execute_result",
          "data": {
            "text/plain": [
              "dtype([('name', '<U10'), ('age', '<i4'), ('weight', '<f8')])"
            ]
          },
          "metadata": {
            "tags": []
          },
          "execution_count": 10
        }
      ]
    },
    {
      "cell_type": "code",
      "metadata": {
        "id": "HiOYisJQZPyT",
        "colab_type": "code",
        "colab": {
          "base_uri": "https://localhost:8080/",
          "height": 34
        },
        "outputId": "1dd408a8-c5b2-4b1b-cbdf-ad36466978ba"
      },
      "source": [
        "np.dtype({'names':('name', 'age', 'weight'),\n",
        "          'formats':((np.str_, 10), int, np.float32)})"
      ],
      "execution_count": 11,
      "outputs": [
        {
          "output_type": "execute_result",
          "data": {
            "text/plain": [
              "dtype([('name', 'S10'), ('age', '<i8'), ('weight', '<f4')])"
            ]
          },
          "metadata": {
            "tags": []
          },
          "execution_count": 11
        }
      ]
    },
    {
      "cell_type": "code",
      "metadata": {
        "id": "2OwJNbgGZPyn",
        "colab_type": "code",
        "colab": {
          "base_uri": "https://localhost:8080/",
          "height": 34
        },
        "outputId": "909fdb63-9a0f-4032-d5b4-2afd2c31c952"
      },
      "source": [
        "np.dtype([('name', 'S10'), ('age', 'i4'), ('weight', 'f8')])"
      ],
      "execution_count": 12,
      "outputs": [
        {
          "output_type": "execute_result",
          "data": {
            "text/plain": [
              "dtype([('name', 'S10'), ('age', '<i4'), ('weight', '<f8')])"
            ]
          },
          "metadata": {
            "tags": []
          },
          "execution_count": 12
        }
      ]
    },
    {
      "cell_type": "code",
      "metadata": {
        "id": "kIzjb0dAZPy3",
        "colab_type": "code",
        "colab": {
          "base_uri": "https://localhost:8080/",
          "height": 34
        },
        "outputId": "cab62a5a-25e0-4e42-9933-0a7c532823c2"
      },
      "source": [
        "np.dtype('S10,i4,f8')"
      ],
      "execution_count": 13,
      "outputs": [
        {
          "output_type": "execute_result",
          "data": {
            "text/plain": [
              "dtype([('f0', 'S10'), ('f1', '<i4'), ('f2', '<f8')])"
            ]
          },
          "metadata": {
            "tags": []
          },
          "execution_count": 13
        }
      ]
    },
    {
      "cell_type": "markdown",
      "metadata": {
        "id": "Ss-VLMEyZPzG",
        "colab_type": "text"
      },
      "source": [
        "\n",
        "\n",
        "| Character        | Description           | Example                             |\n",
        "| ---------        | -----------           | -------                             | \n",
        "| ``'b'``          | Byte                  | ``np.dtype('b')``                   |\n",
        "| ``'i'``          | Signed integer        | ``np.dtype('i4') == np.int32``      |\n",
        "| ``'u'``          | Unsigned integer      | ``np.dtype('u1') == np.uint8``      |\n",
        "| ``'f'``          | Floating point        | ``np.dtype('f8') == np.int64``      |\n",
        "| ``'c'``          | Complex floating point| ``np.dtype('c16') == np.complex128``|\n",
        "| ``'S'``, ``'a'`` | String                | ``np.dtype('S5')``                  |\n",
        "| ``'U'``          | Unicode string        | ``np.dtype('U') == np.str_``        |\n",
        "| ``'V'``          | Raw data (void)       | ``np.dtype('V') == np.void``        |"
      ]
    },
    {
      "cell_type": "markdown",
      "metadata": {
        "id": "vlYvnv67ZPzI",
        "colab_type": "text"
      },
      "source": [
        "## Tipos Compuestos mas avanzados"
      ]
    },
    {
      "cell_type": "code",
      "metadata": {
        "id": "RLUuxPtmZPzL",
        "colab_type": "code",
        "colab": {
          "base_uri": "https://localhost:8080/",
          "height": 84
        },
        "outputId": "8ee2ee60-c07c-4aec-b869-a3c8fe31b346"
      },
      "source": [
        "tp = np.dtype([('id', 'i8'), ('mat', 'f8', (3, 3))])\n",
        "X = np.zeros(1, dtype=tp)\n",
        "print(X[0])\n",
        "print(X['mat'][0])"
      ],
      "execution_count": 14,
      "outputs": [
        {
          "output_type": "stream",
          "text": [
            "(0, [[0., 0., 0.], [0., 0., 0.], [0., 0., 0.]])\n",
            "[[0. 0. 0.]\n",
            " [0. 0. 0.]\n",
            " [0. 0. 0.]]\n"
          ],
          "name": "stdout"
        }
      ]
    },
    {
      "cell_type": "markdown",
      "metadata": {
        "id": "JRZFkwRCZPzV",
        "colab_type": "text"
      },
      "source": [
        "## Record Arrays\n"
      ]
    },
    {
      "cell_type": "code",
      "metadata": {
        "id": "LdqpV3PvZPzX",
        "colab_type": "code",
        "colab": {
          "base_uri": "https://localhost:8080/",
          "height": 34
        },
        "outputId": "e318e3af-8448-412f-f33e-5295b0decd7e"
      },
      "source": [
        "data['age']"
      ],
      "execution_count": 15,
      "outputs": [
        {
          "output_type": "execute_result",
          "data": {
            "text/plain": [
              "array([25, 45, 37, 19], dtype=int32)"
            ]
          },
          "metadata": {
            "tags": []
          },
          "execution_count": 15
        }
      ]
    },
    {
      "cell_type": "code",
      "metadata": {
        "id": "z-1RaAsSZPzh",
        "colab_type": "code",
        "colab": {
          "base_uri": "https://localhost:8080/",
          "height": 34
        },
        "outputId": "f401e9a8-ce8b-4eb9-d830-744248c77ffd"
      },
      "source": [
        "data_rec = data.view(np.recarray)\n",
        "data_rec.age"
      ],
      "execution_count": 16,
      "outputs": [
        {
          "output_type": "execute_result",
          "data": {
            "text/plain": [
              "array([25, 45, 37, 19], dtype=int32)"
            ]
          },
          "metadata": {
            "tags": []
          },
          "execution_count": 16
        }
      ]
    },
    {
      "cell_type": "code",
      "metadata": {
        "id": "C1C2MyKHZPzq",
        "colab_type": "code",
        "colab": {
          "base_uri": "https://localhost:8080/",
          "height": 118
        },
        "outputId": "7699d063-8c21-4794-d870-a07c40d7b59b"
      },
      "source": [
        "%timeit data['age']\n",
        "%timeit data_rec['age']\n",
        "%timeit data_rec.age"
      ],
      "execution_count": 17,
      "outputs": [
        {
          "output_type": "stream",
          "text": [
            "The slowest run took 64.31 times longer than the fastest. This could mean that an intermediate result is being cached.\n",
            "10000000 loops, best of 3: 108 ns per loop\n",
            "The slowest run took 10.12 times longer than the fastest. This could mean that an intermediate result is being cached.\n",
            "100000 loops, best of 3: 3.27 µs per loop\n",
            "The slowest run took 6.32 times longer than the fastest. This could mean that an intermediate result is being cached.\n",
            "100000 loops, best of 3: 5.05 µs per loop\n"
          ],
          "name": "stdout"
        }
      ]
    },
    {
      "cell_type": "markdown",
      "metadata": {
        "id": "-eSxInthZPzx",
        "colab_type": "text"
      },
      "source": [
        "## A Pandas\n",
        "Para el dia a dia el paquete Pandas es mucho mejor"
      ]
    },
    {
      "cell_type": "markdown",
      "metadata": {
        "id": "hL52pXe9ZPzz",
        "colab_type": "text"
      },
      "source": [
        "<!--NAVIGATION-->\n",
        "< [Ordenando elementos de un arreglo](01.08-Sorting.ipynb) | [Contenido](Index.ipynb) | [Manipulación de datos con Pandas](02.00-Introduction-to-Pandas.ipynb) >\n",
        "\n"
      ]
    },
    {
      "cell_type": "code",
      "metadata": {
        "id": "lUuRA7ujZYH8",
        "colab_type": "code",
        "colab": {}
      },
      "source": [
        ""
      ],
      "execution_count": 0,
      "outputs": []
    }
  ]
}